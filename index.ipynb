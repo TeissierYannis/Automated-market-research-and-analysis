{
 "cells": [
  {
   "cell_type": "markdown",
   "metadata": {},
   "source": [
    "# Install and Import Baseline dependencies"
   ]
  },
  {
   "cell_type": "code",
   "execution_count": 16,
   "outputs": [
    {
     "name": "stdout",
     "output_type": "stream",
     "text": [
      "Requirement already satisfied: transformers in ./venv/lib/python3.9/site-packages (4.26.1)\r\n",
      "Requirement already satisfied: sentencepiece in ./venv/lib/python3.9/site-packages (0.1.97)\r\n",
      "Requirement already satisfied: protobuf in ./venv/lib/python3.9/site-packages (4.22.0)\r\n",
      "Collecting selenium\r\n",
      "  Downloading selenium-4.8.2-py3-none-any.whl (6.9 MB)\r\n",
      "\u001B[2K     \u001B[90m━━━━━━━━━━━━━━━━━━━━━━━━━━━━━━━━━━━━━━━━\u001B[0m \u001B[32m6.9/6.9 MB\u001B[0m \u001B[31m20.5 MB/s\u001B[0m eta \u001B[36m0:00:00\u001B[0ma \u001B[36m0:00:01\u001B[0m\r\n",
      "\u001B[?25hCollecting webdriver_manager\r\n",
      "  Downloading webdriver_manager-3.8.5-py2.py3-none-any.whl (27 kB)\r\n",
      "Requirement already satisfied: filelock in ./venv/lib/python3.9/site-packages (from transformers) (3.9.0)\r\n",
      "Requirement already satisfied: requests in ./venv/lib/python3.9/site-packages (from transformers) (2.28.2)\r\n",
      "Requirement already satisfied: pyyaml>=5.1 in ./venv/lib/python3.9/site-packages (from transformers) (6.0)\r\n",
      "Requirement already satisfied: regex!=2019.12.17 in ./venv/lib/python3.9/site-packages (from transformers) (2022.10.31)\r\n",
      "Requirement already satisfied: packaging>=20.0 in ./venv/lib/python3.9/site-packages (from transformers) (23.0)\r\n",
      "Requirement already satisfied: tokenizers!=0.11.3,<0.14,>=0.11.1 in ./venv/lib/python3.9/site-packages (from transformers) (0.13.2)\r\n",
      "Requirement already satisfied: tqdm>=4.27 in ./venv/lib/python3.9/site-packages (from transformers) (4.64.1)\r\n",
      "Requirement already satisfied: huggingface-hub<1.0,>=0.11.0 in ./venv/lib/python3.9/site-packages (from transformers) (0.12.1)\r\n",
      "Requirement already satisfied: numpy>=1.17 in ./venv/lib/python3.9/site-packages (from transformers) (1.24.2)\r\n",
      "Collecting trio-websocket~=0.9\r\n",
      "  Downloading trio_websocket-0.9.2-py3-none-any.whl (16 kB)\r\n",
      "Requirement already satisfied: certifi>=2021.10.8 in ./venv/lib/python3.9/site-packages (from selenium) (2022.12.7)\r\n",
      "Collecting trio~=0.17\r\n",
      "  Downloading trio-0.22.0-py3-none-any.whl (384 kB)\r\n",
      "\u001B[2K     \u001B[90m━━━━━━━━━━━━━━━━━━━━━━━━━━━━━━━━━━━━━━\u001B[0m \u001B[32m384.9/384.9 kB\u001B[0m \u001B[31m11.4 MB/s\u001B[0m eta \u001B[36m0:00:00\u001B[0m\r\n",
      "\u001B[?25hRequirement already satisfied: urllib3[socks]~=1.26 in ./venv/lib/python3.9/site-packages (from selenium) (1.26.14)\r\n",
      "Collecting python-dotenv\r\n",
      "  Downloading python_dotenv-1.0.0-py3-none-any.whl (19 kB)\r\n",
      "Requirement already satisfied: typing-extensions>=3.7.4.3 in ./venv/lib/python3.9/site-packages (from huggingface-hub<1.0,>=0.11.0->transformers) (4.5.0)\r\n",
      "Requirement already satisfied: idna in ./venv/lib/python3.9/site-packages (from trio~=0.17->selenium) (3.4)\r\n",
      "Requirement already satisfied: attrs>=19.2.0 in ./venv/lib/python3.9/site-packages (from trio~=0.17->selenium) (22.2.0)\r\n",
      "Collecting outcome\r\n",
      "  Downloading outcome-1.2.0-py2.py3-none-any.whl (9.7 kB)\r\n",
      "Collecting exceptiongroup>=1.0.0rc9\r\n",
      "  Downloading exceptiongroup-1.1.0-py3-none-any.whl (14 kB)\r\n",
      "Requirement already satisfied: sniffio in ./venv/lib/python3.9/site-packages (from trio~=0.17->selenium) (1.3.0)\r\n",
      "Collecting sortedcontainers\r\n",
      "  Downloading sortedcontainers-2.4.0-py2.py3-none-any.whl (29 kB)\r\n",
      "Collecting async-generator>=1.9\r\n",
      "  Downloading async_generator-1.10-py3-none-any.whl (18 kB)\r\n",
      "Collecting wsproto>=0.14\r\n",
      "  Downloading wsproto-1.2.0-py3-none-any.whl (24 kB)\r\n",
      "Collecting PySocks!=1.5.7,<2.0,>=1.5.6\r\n",
      "  Downloading PySocks-1.7.1-py3-none-any.whl (16 kB)\r\n",
      "Requirement already satisfied: charset-normalizer<4,>=2 in ./venv/lib/python3.9/site-packages (from requests->transformers) (3.0.1)\r\n",
      "Collecting h11<1,>=0.9.0\r\n",
      "  Downloading h11-0.14.0-py3-none-any.whl (58 kB)\r\n",
      "\u001B[2K     \u001B[90m━━━━━━━━━━━━━━━━━━━━━━━━━━━━━━━━━━━━━━━━\u001B[0m \u001B[32m58.3/58.3 kB\u001B[0m \u001B[31m8.7 MB/s\u001B[0m eta \u001B[36m0:00:00\u001B[0m\r\n",
      "\u001B[?25hInstalling collected packages: sortedcontainers, python-dotenv, PySocks, outcome, h11, exceptiongroup, async-generator, wsproto, webdriver_manager, trio, trio-websocket, selenium\r\n",
      "Successfully installed PySocks-1.7.1 async-generator-1.10 exceptiongroup-1.1.0 h11-0.14.0 outcome-1.2.0 python-dotenv-1.0.0 selenium-4.8.2 sortedcontainers-2.4.0 trio-0.22.0 trio-websocket-0.9.2 webdriver_manager-3.8.5 wsproto-1.2.0\r\n"
     ]
    }
   ],
   "source": [
    "!pip install transformers beautifulsoup4 requests selenium webdriver-manager re"
   ],
   "metadata": {
    "collapsed": false
   }
  },
  {
   "cell_type": "markdown",
   "source": [
    "The following code imports several Python modules and libraries that are necessary for implementing human-centered financial summarization using the Pegasus model. Here is an explanation of each import statement:\n",
    "- **transformers**: This imports the PegasusTokenizer and PegasusForConditionalGeneration classes from the transformers library. Pegasus is a state-of-the-art pre-trained language model developed by the Hugging Face team for natural language processing tasks such as text summarization. The PegasusTokenizer class is used to convert input text into numerical tokens that can be processed by the Pegasus model, while the PegasusForConditionalGeneration class is used to generate summaries from the tokenized input text.\n",
    "- **beautifulsoup4**: This imports the BeautifulSoup class from the bs4 library. BeautifulSoup is a Python library for web scraping and parsing HTML and XML documents. It provides a simple and efficient way to extract data from web pages.\n",
    "- **requests**: This imports the requests library, which is used for sending HTTP requests to web servers and receiving responses. In this context, it is used for downloading web pages that will be used as input for summarization.\n",
    "- **selenium**: This imports the webdriver module from the selenium library. Selenium is a popular tool for automating web browsers, and it is commonly used for web scraping and testing. In this context, it is used to programmatically control a web browser and interact with web pages in order to scrape data.\n",
    "- **webdriver-manager**: This imports the ChromeDriverManager class from the webdriver_manager.chrome module. The ChromeDriverManager is a library for managing ChromeDriver executables, which are necessary for running automated tests or web scraping with Selenium.\n",
    "- **time**: This imports the time module, which provides various time-related functions. In this context, it is used to add delays in the program to give time for web pages to load and to avoid overloading web servers with too many requests.\n",
    "- **By**: This imports the By class from the selenium.webdriver.common.by module. The By class is used to specify the method of locating elements on a web page. For example, it can be used to find elements by their ID, class, name, or tag name.\n",
    "\n",
    "- **re**: This imports the re module, which provides support for regular expressions. Regular expressions are a powerful tool for manipulating and searching text data. In this context, it may be used for cleaning and preprocessing the input text before tokenization and summarization.\n"
   ],
   "metadata": {
    "collapsed": false
   }
  },
  {
   "cell_type": "code",
   "execution_count": 17,
   "metadata": {},
   "outputs": [],
   "source": [
    "# human-centered-summarization/financial-summarization-pegasus\n",
    "from transformers import PegasusTokenizer, PegasusForConditionalGeneration, pipeline\n",
    "from bs4 import BeautifulSoup\n",
    "import requests\n",
    "from selenium import webdriver\n",
    "from webdriver_manager.chrome import ChromeDriverManager\n",
    "import time\n",
    "from selenium.webdriver.common.by import By\n",
    "import re"
   ]
  },
  {
   "cell_type": "markdown",
   "metadata": {},
   "source": [
    "# Setup Summarization model\n",
    "The code snippet above loads a pre-trained Pegasus model and tokenizer from the Hugging Face model hub.\n",
    "`model_name = \"human-centered-summarization/financial-summarization-pegasus\"` sets the name of the pre-trained model to be loaded. This specific model is a Pegasus model fine-tuned for summarization tasks.\n",
    "\n",
    "`tokenizer = PegasusTokenizer.from_pretrained(model_name)` loads the pre-trained tokenizer associated with the Pegasus model specified in `model_name`. The tokenizer is responsible for encoding and decoding text inputs and outputs into a numerical representation that can be processed by the model.\n",
    "\n",
    "`model = PegasusForConditionalGeneration.from_pretrained(model_name)` loads the pre-trained Pegasus model specified in `model_name`. The model is an implementation of a transformer-based sequence-to-sequence model, which means it can take a sequence of text as input and produce a summary of that input as output. The `PegasusForConditionalGeneration` class specifically is a subclass of the `PreTrainedModel` class provided by the Transformers library, which provides additional functionality for training and inference.\n",
    "\n",
    "Once loaded, the tokenizer and model objects can be used to generate summaries for our texts."
   ]
  },
  {
   "cell_type": "code",
   "execution_count": 18,
   "metadata": {},
   "outputs": [],
   "source": [
    "# Let's load the model and the tokenizer from the Hugging Face model hub\n",
    "model_name = \"human-centered-summarization/financial-summarization-pegasus\"\n",
    "tokenizer = PegasusTokenizer.from_pretrained(model_name)\n",
    "model = PegasusForConditionalGeneration.from_pretrained(model_name) # If you want to use the Tensorflow model"
   ]
  },
  {
   "cell_type": "markdown",
   "metadata": {},
   "source": [
    "# Summarize a single article\n",
    "\n",
    "The code is an example of how to scrape the text content from a news article on Yahoo Finance using the Python requests library and the BeautifulSoup package.\n",
    "\n",
    "The first line initializes the URL of the webpage that is to be scraped, which in this case is an article on Coinbase rolling out a new layer 2 blockchain on Yahoo Finance.\n",
    "\n",
    "The second line sends a GET request to the webpage using the requests library, and the response is stored in the variable r. The get method retrieves the content of the specified URL.\n",
    "\n",
    "The third line initializes a BeautifulSoup object by passing the text content of the response object to the constructor of BeautifulSoup. The 'html.parser' argument specifies the parser that BeautifulSoup should use to parse the HTML content.\n",
    "\n",
    "The fourth line finds all the HTML paragraphs on the page and stores them in the variable paragraphs. This is done by calling the find_all method of the soup object with the argument 'p', which specifies that the method should search for all <p> tags on the page.\n",
    "\n",
    "After executing these lines of code, the variable paragraphs should contain a list of all the text content from the article."
   ]
  },
  {
   "cell_type": "code",
   "execution_count": 19,
   "metadata": {},
   "outputs": [],
   "source": [
    "url = \"https://finance.yahoo.com/news/coinbase-rolls-out-new-layer-2-blockchain-base-140026538.html\"\n",
    "r = requests.get(url)\n",
    "soup = BeautifulSoup(r.text, 'html.parser')\n",
    "paragraphs = soup.find_all('p')"
   ]
  },
  {
   "cell_type": "code",
   "execution_count": 20,
   "metadata": {},
   "outputs": [
    {
     "data": {
      "text/plain": [
       "[<p>Coinbase Global (<a class=\"link\" data-i13n=\"cpos:1;pos:1\" data-ylk=\"slk:COIN;cpos:1;pos:1\" href=\"https://finance.yahoo.com/quote/COIN/\">COIN</a>) on Thursday announced a new Layer 2 blockchain called Base.</p>,\n",
       " <p>Initially incubated inside the company, the protocol is intended to improve data processing and transaction costs across Ethereum and other blockchains, enabling software developers to more readily build other crypto applications.</p>,\n",
       " <p>Building new and better applications is the crucial next step for attracting crypto's next wave of users, Coinbase said.</p>,\n",
       " <p>\"We've done a really great job doing that on trading and speculation,\" Jesse Pollak, the project lead and Coinbase's senior director of engineering, told Yahoo Finance. \"But we haven't seen the really useful applications emerge yet.\"</p>,\n",
       " <p>The Base protocol has been built using open source software created by the Layer 2 blockchain Optimism. The company has no plans for issuing a token related to the new protocol.</p>,\n",
       " <p>Within the hour following the announcement, the native token for Optimism - <a class=\"link\" data-i13n=\"cpos:2;pos:1\" data-ylk=\"slk:OP;cpos:2;pos:1\" href=\"https://finance.yahoo.com/quote/OP-USD?p=OP-USD&amp;.tsrc=fin-srch\">OP</a> - jumped 7%.</p>,\n",
       " <p>In recent weeks Coinbase opened its blockchain to 48 other crypto collabortators in DeFi, NFTs, gaming, and infrastructure, including Chainlink, Animoca Brands, Nansen, Magic Eden, Ribbon Finance, and Wormhole.</p>,\n",
       " <p>Coinbase's announcement comes two days after the company reported a surprise fourth quarter revenue beat and a narrower than expected loss for 2022. <a class=\"link yahoo-link\" data-i13n=\"cpos:3;pos:1\" data-ylk=\"slk:Wall Street's reactions were mixed;cpos:3;pos:1;outcm:mb_qualified_link;_E:mb_qualified_link;ct:story;\" href=\"https://finance.yahoo.com/news/coinbase-q4-beat-called-empty-calories-as-wall-street-wary-of-regulation-volumes-221426662.html\">Wall Street's reactions were mixed</a>, however, with some analysts arguing the surprise boost was ancillary to the company's core business.</p>,\n",
       " <p>Shares of Coinbase spiked more than 5% at Thursday's open. The stock has lost more than 60% from a year ago; still, it has nearly doubled year-to-date.</p>,\n",
       " <p>Coinbase also announced the Base Ecosystem fund on Thursday, which will invest in early stage projects building on the protocol in collaboration with Coinbase Ventures. The company wouldn't share the amount of capital it plans to deploy through the fund.</p>,\n",
       " <p>Bitcoin, ether, and other major cryptocurrencies represent units of account for Layer 1 blockchains. These digital ledgers are used less in building consumer applications, such as for mobile games and social networks, with <a class=\"link\" data-i13n=\"cpos:4;pos:1\" data-ylk=\"slk:developers often citing;cpos:4;pos:1\" href=\"https://ethereum.org/en/upgrades/vision/\" rel=\"sponsored\" target=\"_blank\">developers often citing</a> data processing efficiency or scalability constraints.</p>,\n",
       " <p>Layer 2 blockchains are often more experimental, next generation protocols typically focused on scaling while deriving security and decentralization from one or multiple Layer 1 blockchains.</p>,\n",
       " <p>Pollak said Coinbase will earn revenue from Base, though the amount is expected to be \"relatively small\" as the company's primary goal is making Layer 2 blockchain transactions \"as cheap as possible.\" The company also will reinvest some of the revenue back into Optimism.</p>,\n",
       " <p>“We feel like this is really a statement about Coinbase not just being an exchange, but really being the gateway to Web3,” said Pollak.</p>,\n",
       " <p>With the announcement, the rehearsal stage, or so-called testnet, for Base is now available to any software developer in the world. Without offering a firm date Pollak said Coinbase is working towards the protocol's mainnet launch over the next few months.</p>,\n",
       " <p>\"Since we're the gateway to Web3, investing in that underlying infrastructure to make it easier for developers to build the applications that users will use fits directly into our narrative of where we're going long term,\" Pollak added.</p>,\n",
       " <p><em>Updated to show OP performance after announcement.</em></p>,\n",
       " <p><a class=\"link\" data-i13n=\"cpos:5;pos:1\" data-ylk=\"slk:Click here for the latest crypto news, updates, values, prices, and more related to Bitcoin, Ethereum, Dogecoin, DeFi and NFTs;cpos:5;pos:1\" href=\"https://finance.yahoo.com/topic/crypto/\"><strong>Click here for the latest crypto news, updates, values, prices, and more related to Bitcoin, Ethereum, Dogecoin, DeFi and NFTs</strong></a></p>,\n",
       " <p><a class=\"link\" data-i13n=\"cpos:6;pos:1\" data-ylk=\"slk:Read the latest financial and business news from Yahoo Finance;cpos:6;pos:1\" href=\"https://finance.yahoo.com/news/\"><strong>Read the latest financial and business news from Yahoo Finance</strong></a></p>,\n",
       " <p><em>Download the Yahoo Finance app for </em><a class=\"link\" data-i13n=\"cpos:7;pos:1\" data-ylk=\"slk:Apple;cpos:7;pos:1\" href=\"https://itunes.apple.com/ca/app/yahoo-finance/id328412701?mt=8\" rel=\"sponsored\" target=\"_blank\"><em>Apple</em></a><em> or </em><a class=\"link\" data-i13n=\"cpos:8;pos:1\" data-ylk=\"slk:Android;cpos:8;pos:1\" href=\"https://play.google.com/store/apps/details?id=com.yahoo.mobile.client.android.finance&amp;hl=en\" rel=\"sponsored\" target=\"_blank\"><em>Android</em></a></p>,\n",
       " <p><em>Follow Yahoo Finance on </em><a class=\"link\" data-i13n=\"cpos:9;pos:1\" data-ylk=\"slk:Twitter;cpos:9;pos:1\" href=\"https://twitter.com/YahooFinance\" rel=\"sponsored\" target=\"_blank\"><em>Twitter</em></a><em>, </em><a class=\"link\" data-i13n=\"cpos:10;pos:1\" data-ylk=\"slk:Facebook;cpos:10;pos:1\" href=\"https://www.facebook.com/yahoofinance/\" rel=\"sponsored\" target=\"_blank\"><em>Facebook</em></a><em>, </em><a class=\"link\" data-i13n=\"cpos:11;pos:1\" data-ylk=\"slk:Instagram;cpos:11;pos:1\" href=\"https://www.instagram.com/yahoofinance/?hl=en\" rel=\"sponsored\" target=\"_blank\"><em>Instagram</em></a><em>, </em><a class=\"link\" data-i13n=\"cpos:12;pos:1\" data-ylk=\"slk:Flipboard;cpos:12;pos:1\" href=\"https://flipboard.com/@YahooFinance\" rel=\"sponsored\" target=\"_blank\"><em>Flipboard</em></a><em>, </em><a class=\"link\" data-i13n=\"cpos:13;pos:1\" data-ylk=\"slk:LinkedIn;cpos:13;pos:1\" href=\"https://www.linkedin.com/company/yahoo-finance\" rel=\"sponsored\" target=\"_blank\"><em>LinkedIn</em></a><em>, and</em><a class=\"link\" data-i13n=\"cpos:14;pos:1\" data-ylk=\"slk:YouTube;cpos:14;pos:1\" href=\"http://youtube.com/c/yahoofinance?sub_confirmation=1\" rel=\"sponsored\" target=\"_blank\"><em> YouTube</em></a></p>,\n",
       " <p class=\"Va(m) Fw(b) Fz(s) C($primaryColor) Wow(bw) Us(n)\">Related Quotes</p>]"
      ]
     },
     "execution_count": 20,
     "metadata": {},
     "output_type": "execute_result"
    }
   ],
   "source": [
    "paragraphs"
   ]
  },
  {
   "cell_type": "markdown",
   "source": [
    "This code snippet is extracting the text content of a web page by using Python's requests library to send an HTTP GET request to the URL of the webpage. The web page in this example is a news article about Coinbase, a cryptocurrency exchange. Once the response is received, BeautifulSoup, a Python library for parsing HTML and XML documents, is used to extract all the paragraphs in the HTML code of the page.\n",
    "\n",
    "The extracted paragraphs are then stored in a list variable called paragraphs. The code then uses a list comprehension to extract the text content of each paragraph by calling the text attribute of each BeautifulSoup object. This produces a list of strings, where each string is the text content of a single paragraph.\n",
    "\n",
    "Next, the code joins all the strings in the list using the join() method with a space as a separator. This produces a single long string that contains all the text from the extracted paragraphs. The long string is then split into individual words using the split() method. The [:400] at the end of the split() method limits the number of words to the first 400, thereby truncating the text to a maximum length of 400 words.\n",
    "\n",
    "Finally, the truncated text is concatenated back into a string, which is stored in a variable called ARTICLE. This variable now contains a summary of the original article, limited to the first 400 words. The purpose of this code is to prepare the text data for input into a machine learning model for summarization."
   ],
   "metadata": {
    "collapsed": false
   }
  },
  {
   "cell_type": "code",
   "execution_count": 21,
   "metadata": {},
   "outputs": [],
   "source": [
    "text = [ paragraph.text for paragraph in paragraphs]\n",
    "words = ' '.join(text).split(' ')[:400]\n",
    "ARTICLE = ' '.join(words)"
   ]
  },
  {
   "cell_type": "code",
   "execution_count": 22,
   "metadata": {},
   "outputs": [
    {
     "data": {
      "text/plain": [
       "'Coinbase Global (COIN) on Thursday announced a new Layer 2 blockchain called Base. Initially incubated inside the company, the protocol is intended to improve data processing and transaction costs across Ethereum and other blockchains, enabling software developers to more readily build other crypto applications. Building new and better applications is the crucial next step for attracting crypto\\'s next wave of users, Coinbase said. \"We\\'ve done a really great job doing that on trading and speculation,\" Jesse Pollak, the project lead and Coinbase\\'s senior director of engineering, told Yahoo Finance. \"But we haven\\'t seen the really useful applications emerge yet.\" The Base protocol has been built using open source software created by the Layer 2 blockchain Optimism. The company has no plans for issuing a token related to the new protocol. Within the hour following the announcement, the native token for Optimism - OP - jumped 7%. In recent weeks Coinbase opened its blockchain to 48 other crypto collabortators in DeFi, NFTs, gaming, and infrastructure, including Chainlink, Animoca Brands, Nansen, Magic Eden, Ribbon Finance, and Wormhole. Coinbase\\'s announcement comes two days after the company reported a surprise fourth quarter revenue beat and a narrower than expected loss for 2022. Wall Street\\'s reactions were mixed, however, with some analysts arguing the surprise boost was ancillary to the company\\'s core business. Shares of Coinbase spiked more than 5% at Thursday\\'s open. The stock has lost more than 60% from a year ago; still, it has nearly doubled year-to-date. Coinbase also announced the Base Ecosystem fund on Thursday, which will invest in early stage projects building on the protocol in collaboration with Coinbase Ventures. The company wouldn\\'t share the amount of capital it plans to deploy through the fund. Bitcoin, ether, and other major cryptocurrencies represent units of account for Layer 1 blockchains. These digital ledgers are used less in building consumer applications, such as for mobile games and social networks, with developers often citing data processing efficiency or scalability constraints. Layer 2 blockchains are often more experimental, next generation protocols typically focused on scaling while deriving security and decentralization from one or multiple Layer 1 blockchains. Pollak said Coinbase will earn revenue from Base, though the amount is expected to be \"relatively small\" as the company\\'s primary goal is making Layer 2 blockchain transactions \"as cheap as possible.\" The company also will reinvest some of the revenue back into Optimism. “We feel like'"
      ]
     },
     "execution_count": 22,
     "metadata": {},
     "output_type": "execute_result"
    }
   ],
   "source": [
    "ARTICLE"
   ]
  },
  {
   "cell_type": "markdown",
   "source": [
    "This code performs the task of generating a summary for a given input text using the Pegasus model and tokenizer that have been previously loaded in the code.\n",
    "\n",
    "Here is the breakdown of the code:\n",
    "\n",
    "`input_ids = tokenizer.encode(ARTICLE, return_tensors='pt')`: This line encodes the input text using the tokenizer that has been previously loaded. The encode function of the tokenizer tokenizes the input text and converts it into a sequence of integer IDs, which are used as input to the model. The return_tensors='pt' argument specifies that the function should return a PyTorch tensor.\n",
    "\n",
    "`output = model.generate(input_ids, max_length=55, num_beams=5, early_stopping=True)`: This line generates the summary for the input text using the model that has been previously loaded. The generate function of the model takes in the input tensor IDs and generates a summary using a beam search algorithm. The max_length argument specifies the maximum length of the summary, num_beams argument specifies the number of beams to use during beam search, and early_stopping argument specifies whether to stop the beam search early if the max_length is reached.\n",
    "\n",
    "`summary = tokenizer.decode(output[0], skip_special_tokens=True)`: This line decodes the generated summary using the tokenizer that has been previously loaded. The decode function of the tokenizer converts the sequence of integer IDs generated by the model back into a human-readable summary text. The skip_special_tokens=True argument specifies that any special tokens (such as start-of-sequence or end-of-sequence tokens) should be removed from the generated summary text. The summary is then assigned to the summary variable for further use."
   ],
   "metadata": {
    "collapsed": false
   }
  },
  {
   "cell_type": "code",
   "execution_count": 23,
   "metadata": {},
   "outputs": [],
   "source": [
    "input_ids = tokenizer.encode(ARTICLE, return_tensors='pt')\n",
    "output = model.generate(input_ids, max_length=55, num_beams=5, early_stopping=True)\n",
    "summary = tokenizer.decode(output[0], skip_special_tokens=True)"
   ]
  },
  {
   "cell_type": "markdown",
   "metadata": {},
   "source": [
    "# Search for stocks news using Google and Yahoo Finance\n",
    "\n",
    "This code defines a function search_for_stocks_news_urls that takes a single parameter, ticker, which is a string representing the stock ticker to search for. The function searches for news articles related to the stock ticker on Yahoo Finance using Google search.\n",
    "\n",
    "First, the function creates an instance of the Chrome web driver using the ChromeDriverManager to install the appropriate driver. It also sets a user agent header to simulate a web browser.\n",
    "\n",
    "Then, the function navigates to the search page on Google with a query string that includes the stock ticker and the \"news\" search filter on Yahoo Finance. It waits for the page to load using time.sleep and clicks the \"I Agree\" button to consent to the page. After waiting for the consent prompt to disappear, the function extracts all the links on the page using the find_elements method on the a tag and get_attribute method on each tag to get the href value. It filters out links that are not from Yahoo Finance by checking if 'finance.yahoo.com' is in the href.\n",
    "\n",
    "Finally, the function quits the Chrome driver and returns a list of URLs to news articles related to the stock ticker."
   ]
  },
  {
   "cell_type": "code",
   "execution_count": 24,
   "metadata": {},
   "outputs": [],
   "source": [
    "tickers = ['BTC', 'ETH', 'SOL']"
   ]
  },
  {
   "cell_type": "code",
   "execution_count": 87,
   "metadata": {},
   "outputs": [],
   "source": [
    "def search_for_stocks_news_urls(ticker):\n",
    "    \"\"\"Search for stock news using Google and Yahoo Finance\n",
    "    \"\" :param ticker: stock ticker\n",
    "    \"\"\"\n",
    "\n",
    "    chrome_options = webdriver.ChromeOptions()\n",
    "    driver = webdriver.Chrome(ChromeDriverManager().install(), chrome_options=chrome_options)\n",
    "\n",
    "    headers = {\n",
    "        'User-Agent': 'Mozilla/5.0 (Windows NT 10.0; Win64; x64) AppleWebKit/537.36 (KHTML, like Gecko) Chrome/58.0.3029.110 Safari/537.36'\n",
    "    }\n",
    "\n",
    "    # Navigate to the search page\n",
    "    search_url = \"https://www.google.com/search?q=yahoo+finance+{}&tbm=nws\".format(ticker)\n",
    "    driver.get(search_url)\n",
    "\n",
    "    # Wait for the page to load and for the consent prompt to appear\n",
    "    time.sleep(10)\n",
    "\n",
    "    # Click the \"I Agree\" button to consent to the page\n",
    "    consent_button = driver.find_element(By.XPATH, '//*[@id=\"yDmH0d\"]/c-wiz/div/div/div/div[2]/div[1]/div[3]/div[1]/div[1]/form[2]/div/div/button')\n",
    "    consent_button.click()\n",
    "\n",
    "    # Wait for the consent prompt to disappear\n",
    "    time.sleep(5)\n",
    "\n",
    "    # Extract the links from the search results page\n",
    "    atags = driver.find_elements(By.TAG_NAME, 'a')\n",
    "    hrefs = [atag.get_attribute('href') for atag in atags]\n",
    "    # filter none and no yahoo finance\n",
    "    hrefs = [href for href in hrefs if href is not None and 'finance.yahoo.com' in href]\n",
    "    # Quit the driver\n",
    "    driver.quit()\n",
    "\n",
    "    # Return the links\n",
    "    return hrefs"
   ]
  },
  {
   "cell_type": "markdown",
   "source": [
    "This code defines a dictionary called raw_urls, which contains news article URLs for a given set of stock tickers.\n",
    "\n",
    "The dictionary is created using a dictionary comprehension, which iterates through the tickers list and calls the search_for_stocks_news_urls function for each ticker. The resulting list of URLs is then assigned as the value for the corresponding ticker key in the raw_urls dictionary.\n",
    "\n",
    "So, for example, if tickers contains ['BTC', 'ETH', 'SOL'], the resulting raw_urls dictionary will contain three keys ('BTC', 'ETH', and 'SOL') and their respective values will be lists of URLs containing news articles related to each ticker."
   ],
   "metadata": {
    "collapsed": false
   }
  },
  {
   "cell_type": "code",
   "execution_count": 88,
   "metadata": {},
   "outputs": [
    {
     "name": "stderr",
     "output_type": "stream",
     "text": [
      "/var/folders/3m/wyqs41z16v53xn4gssj1tz2h0000gn/T/ipykernel_19205/3052704168.py:7: DeprecationWarning: executable_path has been deprecated, please pass in a Service object\n",
      "  driver = webdriver.Chrome(ChromeDriverManager().install(), chrome_options=chrome_options)\n",
      "/var/folders/3m/wyqs41z16v53xn4gssj1tz2h0000gn/T/ipykernel_19205/3052704168.py:7: DeprecationWarning: use options instead of chrome_options\n",
      "  driver = webdriver.Chrome(ChromeDriverManager().install(), chrome_options=chrome_options)\n"
     ]
    }
   ],
   "source": [
    "raw_urls = {ticker:search_for_stocks_news_urls(ticker) for ticker in tickers}"
   ]
  },
  {
   "cell_type": "markdown",
   "metadata": {},
   "source": [
    "# Strip out unwanted URLs\n",
    "This code defines a function strip_out_unwanted_urls that takes two parameters urls and exclude_list. The function iterates over each URL in the urls list and checks if it contains https:// and does not contain any word in the exclude_list by using the any function and a generator expression. If the URL meets the conditions, it extracts the URL using regex to remove any parameters and appends it to a list val. Finally, the function returns a list of unique URLs.\n",
    "\n",
    "The code then uses a dictionary comprehension to apply the strip_out_unwanted_urls function to each list of URLs in the raw_urls dictionary and creates a new dictionary cleaned_urls with the ticker symbols as keys and the cleaned URL lists as values. The exclude_list contains words that may appear in unwanted URLs such as maps, policies, preferences, accounts, and support. The purpose of this code is to clean up the URLs obtained from Google search results and filter out any URLs that are not relevant or may contain unnecessary parameters."
   ]
  },
  {
   "cell_type": "code",
   "execution_count": 90,
   "metadata": {},
   "outputs": [],
   "source": [
    "exclude_list = ['maps', 'policies', 'preferences', 'accounts', 'support']"
   ]
  },
  {
   "cell_type": "code",
   "execution_count": 91,
   "metadata": {},
   "outputs": [],
   "source": [
    "def strip_out_unwanted_urls(urls, exclude_list):\n",
    "    \"\"\"Strip out unwanted URLs\n",
    "    \"\" :param urls: list of urls\n",
    "    \"\" :param exclude_list: list of words to exclude\n",
    "    \"\"\"\n",
    "    val = []\n",
    "    for url in urls:\n",
    "        if 'https://' in url and not any(exclude_word in url for exclude_word in exclude_list):\n",
    "            res = re.findall(r'(https?://\\S+)', url)[0].split('&')[0]\n",
    "            val.append(res)\n",
    "    return list(set(val))"
   ]
  },
  {
   "cell_type": "code",
   "execution_count": 93,
   "metadata": {},
   "outputs": [],
   "source": [
    "cleaned_urls = {ticker:strip_out_unwanted_urls(urls, exclude_list) for ticker, urls in raw_urls.items()}"
   ]
  },
  {
   "cell_type": "code",
   "execution_count": 95,
   "metadata": {},
   "outputs": [
    {
     "data": {
      "text/plain": [
       "{'BTC': ['https://finance.yahoo.com/news/microstrategy-bought-more-than-8800-bitcoins-during-2022s-plunge-223922592.html',\n",
       "  'https://finance.yahoo.com/news/coinbase-rolls-out-new-layer-2-blockchain-base-140026538.html',\n",
       "  'https://finance.yahoo.com/news/block-q4-bitcoin-revenue-fell-213625764.html',\n",
       "  'https://finance.yahoo.com/news/bitcoin-future-hinges-donations-got-194653381.html',\n",
       "  'https://finance.yahoo.com/news/bitcoin-futures-cme-outpace-those-122730357.html',\n",
       "  'https://finance.yahoo.com/news/economic-landings-economic-signals-bitcoin-25000-3-top-stories-from-this-week-120058611.html',\n",
       "  'https://finance.yahoo.com/news/bitcoin-closes-out-best-january-since-2013-232215270.html',\n",
       "  'https://finance.yahoo.com/news/wild-theory-price-bitcoin-being-110000608.html',\n",
       "  'https://finance.yahoo.com/news/bit-brother-generated-over-15-133000172.html',\n",
       "  'https://finance.yahoo.com/video/11-301-btc-added-global-152401432.html'],\n",
       " 'ETH': ['https://finance.yahoo.com/news/sec-crackdown-ethereum-staking-silver-133000598.html',\n",
       "  'https://finance.yahoo.com/news/first-mover-asia-bitcoin-seesaws-013345503.html',\n",
       "  'https://finance.yahoo.com/news/ethereum-shanghai-upgrade-mean-eth-224154909.html',\n",
       "  'https://uk.finance.yahoo.com/news/ethereum-price-drops-kraken-sec-settlement-112911514.html',\n",
       "  'https://finance.yahoo.com/news/coinbase-joins-ethereum-layer-2-192111764.html',\n",
       "  'https://finance.yahoo.com/news/why-bitcoin-miners-ethereum-seriously-165819920.html',\n",
       "  'https://uk.finance.yahoo.com/news/ukraine-military-fight-russia-crypto-123809503.html',\n",
       "  'https://finance.yahoo.com/news/arbitrum-based-gmx-surpassed-ethereum-082717664.html',\n",
       "  'https://finance.yahoo.com/news/validation-cloud-launches-first-staking-140000235.html',\n",
       "  'https://finance.yahoo.com/news/crypto-regulatory-initiatives-show-sec-120243801.html'],\n",
       " 'SOL': ['https://finance.yahoo.com/news/solana-stores-were-called-experiment-174153923.html',\n",
       "  'https://finance.yahoo.com/news/emerging-markets-latam-fx-stocks-144557844.html',\n",
       "  'https://uk.finance.yahoo.com/news/ukraine-military-fight-russia-crypto-123809503.html',\n",
       "  'https://finance.yahoo.com/news/sgi-portfolio-company-simply-better-123000143.html',\n",
       "  'https://finance.yahoo.com/news/bill-gates-buys-stake-heineken-161015666.html',\n",
       "  'https://finance.yahoo.com/news/black-history-month-2023-celebrating-191500922.html',\n",
       "  'https://finance.yahoo.com/news/sol-systems-contributes-additional-1-143500692.html',\n",
       "  'https://finance.yahoo.com/news/12-most-promising-solar-stocks-151229884.html',\n",
       "  'https://finance.yahoo.com/news/emerging-markets-em-stocks-drop-152527609.html',\n",
       "  'https://finance.yahoo.com/news/5-best-coins-invest-2023-125252143.html']}"
      ]
     },
     "execution_count": 95,
     "metadata": {},
     "output_type": "execute_result"
    }
   ],
   "source": [
    "cleaned_urls"
   ]
  },
  {
   "cell_type": "markdown",
   "metadata": {},
   "source": [
    "# Search and scrap Cleaned URLs\n",
    "This code defines a function scrap_and_process that takes a list of URLs, scrapes the content of the webpage associated with each URL, processes it, and returns a list of articles.\n",
    "\n",
    "The processing steps involve extracting only the first 350 words of the article and concatenating them to form a single string. This string is then added to a list of articles associated with the corresponding ticker.\n",
    "\n",
    "The code then applies this function to each list of cleaned URLs associated with each ticker using a dictionary comprehension, resulting in a nested dictionary where the keys are tickers and the values are lists of articles. The resulting dictionary is assigned to the variable articles."
   ]
  },
  {
   "cell_type": "code",
   "execution_count": 100,
   "metadata": {},
   "outputs": [],
   "source": [
    "def scrap_and_process(URLs):\n",
    "    \"\"\"Scrap and process URLs\n",
    "    :param URLs: list of URLs\n",
    "    :return: list of articles\n",
    "    \"\"\"\n",
    "    ARTICLES = []\n",
    "    for url in URLs:\n",
    "        r = requests.get(url)\n",
    "        soup = BeautifulSoup(r.text, 'html.parser')\n",
    "        paragraphs = soup.find_all('p')\n",
    "        text = [ paragraph.text for paragraph in paragraphs]\n",
    "        words = ' '.join(text).split(' ')[:350]\n",
    "        ARTICLE = ' '.join(words)\n",
    "        ARTICLES.append(ARTICLE)\n",
    "    return ARTICLES"
   ]
  },
  {
   "cell_type": "code",
   "execution_count": 101,
   "metadata": {},
   "outputs": [
    {
     "data": {
      "text/plain": [
       "{'BTC': ['MicroStrategy (MSTR) bought 8,813 bitcoins during 2022\\'s major crypto dip, taking a $1.28 billion impairment loss for the year, the company said in its fourth quarter report on Thursday. As of December 31, the company had spent a total $3.9 billion to acquire 132,500 bitcoins purchased at an average price of $30,137. The company\\'s carrying value of its bitcoin holdings at quarter\\'s end was $1.8 billion. As of Thursday afternoon\\'s bitcoin price, MicroStrategy\\'s stash was worth $3.16\\xa0billion. Shares of MicroStrategy were down as much as 3% in after hours trade on Thursday. Shares had gained more than 9% during normal trading hours on Thursday, and the stock has more than doubled so far this year. In the fourth quarter, the business intelligence software company reported revenue of $132.6 million, just beating the $131 million expected by analysts, according to data from Bloomberg. MicroStrategy reported a net loss for the fourth quarter of $249.7 million. \"Our corporate strategy and conviction in acquiring, holding, and growing our bitcoin position for the long term remains unchanged,\" said MicroStrategy CFO Andrew Kang. MicroStrategy took a $197.6 million impairment charge for the fourth quarter on its bitcoin holdings, bringing its cumulative impairment charges related to bitcoin to $2.15 billion. The company’s founder and Executive Chairman Michael Saylor has said previously that buying bitcoin has raised its public profile. Saylor stepped down in August from his role as CEO to focus on the company’s bitcoin strategy and related bitcoin advocacy initiatives. To buy bitcoin, MicroStrategy has issued corporate debt, convertible bonds, equity, and taken out a loan with some of its bitcoin. During the quarter, the company issued $46.2 million worth its stock, and as of December 31, MicroStrategy had around $450 million available for sale under its current authorizaton. Over its fourth quarter, MicroStrategy also sold bitcoin for the first time, harvesting its losses to offset capital gains tax, according to an SEC filing. The company\\'s massive bitcoin write downs have also brought attention to how cryptocurrencies should be reported on a public corporation\\'s balance sheet. By current standards, crypto holdings must be recorded as',\n",
       "  'Coinbase Global (COIN) on Thursday announced a new Layer 2 blockchain called Base. Initially incubated inside the company, the protocol is intended to improve data processing and transaction costs across Ethereum and other blockchains, enabling software developers to more readily build other crypto applications. Building new and better applications is the crucial next step for attracting crypto\\'s next wave of users, Coinbase said. \"We\\'ve done a really great job doing that on trading and speculation,\" Jesse Pollak, the project lead and Coinbase\\'s senior director of engineering, told Yahoo Finance. \"But we haven\\'t seen the really useful applications emerge yet.\" The Base protocol has been built using open source software created by the Layer 2 blockchain Optimism. The company has no plans for issuing a token related to the new protocol. Within the hour following the announcement, the native token for Optimism - OP - jumped 7%. In recent weeks Coinbase opened its blockchain to 48 other crypto collabortators in DeFi, NFTs, gaming, and infrastructure, including Chainlink, Animoca Brands, Nansen, Magic Eden, Ribbon Finance, and Wormhole. Coinbase\\'s announcement comes two days after the company reported a surprise fourth quarter revenue beat and a narrower than expected loss for 2022. Wall Street\\'s reactions were mixed, however, with some analysts arguing the surprise boost was ancillary to the company\\'s core business. Shares of Coinbase spiked more than 5% at Thursday\\'s open. The stock has lost more than 60% from a year ago; still, it has nearly doubled year-to-date. Coinbase also announced the Base Ecosystem fund on Thursday, which will invest in early stage projects building on the protocol in collaboration with Coinbase Ventures. The company wouldn\\'t share the amount of capital it plans to deploy through the fund. Bitcoin, ether, and other major cryptocurrencies represent units of account for Layer 1 blockchains. These digital ledgers are used less in building consumer applications, such as for mobile games and social networks, with developers often citing data processing efficiency or scalability constraints. Layer 2 blockchains are often more experimental, next generation protocols typically focused on scaling while deriving security and decentralization from one or multiple',\n",
       "  \"Join the most important conversation in crypto and web3! Secure your seat today Fintech firm Block (SQ) reported $1.83 billion in bitcoin (BTC) revenue in its Cash App unit during the fourth quarter, down 7% year over year but higher than the $1.76 billion reported in the third quarter. Block reports the total sale amount of bitcoin to customers as revenue. Cash App generated $35 million in bitcoin gross profit in the quarter, down 25% from the year earlier and slightly less than the $37 million reported in the third quarter. The year-over-year decline in bitcoin revenue and gross profit was driven by the fall in the price of bitcoin, Block said in its quarterly shareholder letter Thursday. For the full year of 2022, Cash App generated $7.11 billion of bitcoin revenue and $156 million of bitcoin gross profit, down 29% and 28%, respectively, from the previous year. Block recorded an impairment charge of $9 million on its bitcoin investment during the fourth quarter, compared to $2 million in the third quarter. For the full year of 2022, Block recognized a bitcoin impairment loss of $47 million. As of Dec. 31, the fair value of Block's bitcoin investment was $133 million based on “observable market prices,” which was $30 million greater than the carrying value of the investment after impairment charges, the company noted. Overall, the company reported adjusted earnings per share of 22 cents on $4.65 billion in revenue, compared to analyst estimates of EPS of 30 centsand revenue of $4.63 billion, according to FactSet. Shares of Block were up 0.6% in post-market trading Thursday to $74.54. Shares are up 17% this year but down 22% over the past year. UPDATE (Feb. 23 21:48 UTC): Added company's overall results.\",\n",
       "  'Join the most important conversation in crypto and web3! Secure your seat today Last month, Bitcoin developer James O\\'Beirne sounded the alarm: The dominant blockchain might lose some very talented contributors if someone doesn’t step up to pay them for their work. That work involves writing and maintaining code for the Bitcoin blockchain, tasks completely dependent on grants and donations from businesses and voluntary contributors. But relying on grants, stipends and free labor makes Bitcoin development prone to the ebb and flow of crypto markets – and goodwill. This story is part of CoinDesk’s “BUIDL Week.\" The price of bitcoin (BTC) is currently down by well over 60% since its all-time high in November 2021. Consequently, many Bitcoin businesses – the main source of those grants and stipends – have tightened their purse strings and some have even been forced into bankruptcy, leaving many in the community anxious about how Bitcoin developers will get paid in the future. “It\\'d be really nice to see more Bitcoin businesses step up,” O\\'Beirne tweeted. “This could get bad.” Steven Lee, who leads Spiral, a subsidiary of Jack Dorsey’s Block that focuses on funding Bitcoin development, isn’t as pessimistic and chalks up the gloomy funding situation to the current slump in crypto asset prices. “You have to recognize that we\\'re in the middle of a bear market,” Lee told CoinDesk in an interview. “Some companies and funders that were doing a really nice job of funding developers have had to reduce that due to financial pressures and the bear market.” Adam Back, CEO and co-founder of Bitcoin infrastructure firm Blockstream, chimed in with a response to O\\'Beirne’s SOS and pointed out that the recent deluge of layoffs may have forced cash-strapped crypto exchanges to cut spending and opt out of renewing developer grants. Read more: So You Want to Be a Bitcoin Developer? How bad could things get if the bear market persists, funding dries up and Bitcoin development grinds to a halt? What’s so critical about the work Bitcoin developers do? Gloria Zhao is a “maintainer” for Bitcoin Core (or just “Core”) –',\n",
       "  'Join the most important conversation in crypto and web3! Secure your seat today Yes, you read the headline right. Bitcoin (BTC) futures really are, unusually, trading at a higher premium on the Chicago Mercantile Exchange (CME) than on Binance. Three-month bitcoin futures listed on CME, widely considered a proxy for institutional activity, are trading at an annualized premium of around 8.7% to the underlying reference index. The equivalent premium on offshore exchanges, mainly Binance, has jumped to 6.3%, the highest since January 2022. On CME, the premium is the highest positive basis since November 2021, according to data tracked by Arcane Research. Back then, bitcoin traded at record highs near $69,000 – almost three times the current $24,850, CoinDesk data show. (We are talking of premiums in standard futures market here, not perpetuals, which are futures-like derivatives with no expiry.) Bitcoin has surged over 45% so far this year, outperforming traditional risk assets, including Wall Street\\'s tech-heavy Nasdaq index, by a significant margin. Futures typically trade at a premium in a sign of leverage being skewed on the bullish side when the underlying asset is appreciating in value. Conversely, during bear markets, discounts are often observed. \"The bull is back,\" Arcane\\'s research analyst Vetle Lunde told CoinDesk. Historically, futures on the CME have traded at a relatively lower premium than those on Binance and other unregulated offshore entities, predominantly because these latter avenues offered higher leverage. That means traders on offshore exchanges were able to take bigger bullish bets while depositing a relatively small amount of money, called a margin. However, offshore exchanges have cut back on leverage since the second half of 2021, and they now account for just 30% of the global futures activity, while the rest comes from the CME. Another reason the CME has flipped offshore exchanges is that futures-based exchange-traded funds tied to bitcoin invest only in regulated CME futures contracts. According to Arcane Research, open interest, or the number of open futures contracts on the CME, currently sits at 80,586 BTC – or 70% of the global open interest. That\\'s significantly higher than 28%',\n",
       "  'The stock market\\'s early-year rally continued to stall this week, with the Dow logging its third-straight losing week while the S&P 500 capped off two-straight losing weeks for the first time this year. Underneath the surface, retail investors continue to buy with enthusiasm, as data from VandaTrack published Thursday showed some $1.5 billion per day is coming into the market from this group. And while single-stock action remains volatile with earnings season continuing to offer fireworks — see DraftKings (DKNG) and Shopify (SHOP), which rose 13% and fell 15%, respectively, after quarterly results this week — the big market storylines continued to be dominated by one topic: the U.S. economy. The U.S. economy remains more resilient than most experts expected as a cumulative 4.5% increase in the Federal Reserve\\'s benchmark interest rate since March 2022 hasn\\'t yet choked off the labor market, consumer spending, or overall growth. This week, data on retail sales showed consumers did little holding back to start the year, with sales rising 3% in January, the biggest monthly increase since March 2021. Wednesday\\'s data came just a day after January inflation data showed price increases were firmer than expected to start the year, with the headline Consumer Price Index (CPI) rising 0.5% over last month and 6.4% over last year. \"Core\" CPI, which strips out the more volatile costs of food and gas, rose 0.4% over last month and 5.6% over last year. Taken together, these reports show both inflation pressures fading less quickly than expected and consumers appearing less sensitive to these pressures. In 2022, the conversation about the U.S. economy broke into two basic camps — hard landing and soft landing. A hard landing would see the Fed\\'s rate hikes send the economy into recession with the labor market weakening considerably. A soft landing would see rate hikes slow inflation without crashing the economy into a downturn. But now, a third way has emerged among the economic commentariat: a \"no landing.\" As Yahoo Finance\\'s Alexandra Semenova detailed on Friday, a \"no landing\" means inflation remains elevated but the economy keeps growing. Some economists, as',\n",
       "  'With a gain of 39.4% this month, Bitcoin is closing out its best month since a 40% rally in October 2021 and its best January since 2013. Currently changing hands at $22,910, bitcoin (BTC-USD) has been trading over the past week at its highest level since August of last year. The largest cryptocurrency hasn\\'t given holders such an uplifting January in a decade. “We started January off with some explosive price action the week of December\\'s CPI print,” said Christopher Newhouse, options trader with crypto market maker GSR. From Newhouse\\'s perspective, buyer side demand from institutional takers — whether macro driven traders or hedge funds — returned in the first two weeks of the month, which sparked initial short seller liquidations. In the 12 days following December\\'s inflation report released on Jan. 12, $1.3 billion worth of short positions on bitcoin were liquidated, or $611 million as net of long positions, according to crypto derivatives aggregator CoinGlass. Over the past week, the trend has reversed with $331 million in long positions liquidated, or $108 million net of short positions. Between January 10 and 20, which is when bitcoin saw its largest moves higher, speculation-driven momentum traders returned to the market, spearheading bitcoin breaking out from a range of between $15,700 and $18,000. \"Bitcoin’s pushes above $20,000 and $22,000 both happened on Fridays as dealers had large amounts of negative gamma exposure and forced to hedge towards the end of U.S. hours trading,\" Newhouse observed. Analysts say the next leg for bitcoin will likely be determined in the days following the Federal Reserve\\'s monthly rate hike decision. “This market is going to start to trade very technical,” Edward Moya, a senior analyst at Oanda told Yahoo Finance, \"Volatility is coming back.\" The return of bitcoin buying looks similar to what occurred from July through early August according to Michael Safai, co-founder and partner with crypto trading firm, Dexterity Capital. \"It takes about two months or so for the crypto market to stabilize after a major shock, and we’re at that point post-FTX,\" Safai said over email. \"The worst of the damage',\n",
       "  'Back in 2017, John Griffin, a professor of finance at the University of Texas McCombs School of Business, noticed something strange. Griffin follows a totally different beat from typical business school finance profs who explore, say, how business cycles influence commodity prices or Fed policy sways the term structure of interest rates. The 6-foot-2 former high school football star views himself as a crusader for good, a moral sleuth who, as he tells Fortune, “looks to expose financial evil, to shed light on the world and expose dark things in the markets.” After the Great Financial Crisis, Griffin became a devout Christian. He has since dedicated his distinguished career to righteous forensic digging that’s unearthed abuses ranging from insider trading to mortgage fraud to the doctoring of bond ratings during the financial crisis. As Griffin and Amin Shams, then a doctoral candidate at McCombs who’s joined Griffin in several gumshoe investigations, screened for misdeeds in 2017, they were fascinated to see that a little-known token that’s supposed to be backed one-for-one to the dollar was getting printed in large quantities. That clue led the pair to another: When new batches appeared, the price of Bitcoin seemed to jump. It looked like someone, or a group, was using that freshly printed “free money” to inflate Bitcoin’s price for their own profit. He and his coauthor Shams sifted through an incredible 200 gigabytes of trading data, equal to the troves that the Smithsonian Institution collects in two years, and followed sales and purchases from 2.5 million separate wallets. In 2018, they coauthored a groundbreaking study showing that a single, still unidentified, Bitcoin “whale” almost singlehandedly drove the token’s giant run-up in late 2017 and early 2018 by distorting the trading in the token. Toward the end of 2022, another mystifying trend caught Griffin’s eye. Despite the crypto crash and myriad other negative forces, every time Bitcoin briefly breached the $16,000 floor, it bounced above that level and kept stubbornly trading between $16,000 and $17,000. Almost unbelievably, as the crypto market has continued to unravel into 2023, Bitcoin has gone in the opposite',\n",
       "  'CHANGSHA, China, Feb. 24, 2023 /PRNewswire/ --\\xa0Bit Brother Limited (the \"Company,\" \"we\", \"BTB\" or \"Bit Brother\") (NASDAQ: BTB) is pleased to announce that BTB\\'s Texas mining farm has been operating as expected since it started operations on January 17, 2023. As of February 23, 2023, the mining server has mined over 15 bitcoins, generating approximately $370,000 in revenue based on the current bitcoin price. With another 400 S19J Pro mining servers delivering expected in April, assuming that all mining servers are operating as expected and the bitcoin price remain stable, total revenue from our Texas mining farm for the full fiscal year ending June 30, 2023 is expected to reach approximately $1.8 million. The Company seeks to provide as much transparency about its bitcoin mining operation as possible. The link below reflects bitcoins we have mined in real-time:https://www.blockchain.com/explorer/addresses/btc/37frzvqQeAzf6hWj4J9zrEzZf4WJoo3sRR BTB\\'s management team is committed to continue to grow its cryptocurrency and blockchain business for the benefit of the company and its shareholders. These mining results do not include any financial results for the Company and do not address the Company\\'s other, non-mining operations. United States generally accepted accounting principles for cryptocurrency mining are complex, emerging, and uncertain. Cryptocurrencies may not be recognized as cash or cash equivalents, and mining activities may not qualify for revenue recognition. Cryptocurrencies have no inherent value, are not legal tender recognized by any governmental entity, and might not be able to be converted into fiat currencies. Investors are advised not to place undue reliance on mining results alone, without considering other financial and non-financial metrics. About\\xa0Bit Brother Limited\\xa0 Bit Brother Limited (formerly known as Urban Tea, Inc.) was incorporated in the British Virgin Islands as a company with limited liability on November 28, 2011. Our business currently consists cryptocurrency mining and blockchain technology business and the distribution and retail of specialty tea products. For more information, please visit: www.bitbrother.com Forward-Looking Statements This press release contains certain statements that may include \"forward-looking statements.\" All statements other than statements of historical fact included herein are \"forward-looking statements.\" These forward-looking statements are often identified by the use of forward-looking',\n",
       "  'Thank you for your patience. Our engineers are working quickly to resolve the issue.'],\n",
       " 'ETH': [\"Join the most important conversation in crypto and web3! Secure your seat today While this year’s price performance of the two largest cryptocurrencies has been impressive, with Bitcoin up over 46% YTD and Ethereum up over 37% YTD, the US Securities and Exchange Commission (SEC) has been aggressively pursuing increased regulation on cryptocurrencies and has sued large cryptocurrency exchanges and custodians. Earlier this year, Kraken, a US-based crypto trading platform and custodian, settled with the SEC and agreed to discontinue their “Crypto Asset Staking-As-A-Service” program and to pay a $30 million fine. This aggressive action from US regulators has left many crypto investors concerned about the future of the industry. But, while concerning, it may actually help the industry by increasing decentralization and provide much needed clarity. You're reading Crypto for Advisors, a weekly look at digital assets and the future of finance for financial advisors. Subscribe here to receive the mailing every Thursday. When Ethereum completed a successful network upgrade in 2022, shifting from a proof-of-work (PoW) blockchain to a proof-of-stake (PoS) network, this created an opportunity for individuals to earn blockchain rewards by running a network validator node and contributing to network security. Under the new PoS mechanism, the Ethereum network is secured by validators instead of miners, and those running a validator may earn rewards paid to them directly by the network, for their help in securing and running the network. Running a validator on Ethereum requires more technical knowledge than many cryptocurrency investors have, which led companies to offer “staking-as-a-service” products to retail traders and investors. Kraken, along with others, offered their customers the ability to stake Ethereum collectively, in a commingled staking pool, to generate staking rewards. While many investors appreciated these services, the SEC did not. Their public complaint states, “Kraken has offered and sold its crypto asset ‘staking services’ to the general public, whereby Kraken pools certain crypto assets transferred by investors and stakes them on behalf of those investors. Staking is a process in which investors lock up – or ‘stake’ – their crypto tokens with a blockchain validator with the goal\",\n",
       "  'Join the most important conversation in crypto and web3! Secure your seat today Good morning. Here’s what’s happening: Prices: Bitcoin dropped near $23,600 following the release of less than encouraging minutes from the FOMC January meeting but rebounded along with other major cryptos later in the day. Insights: Hundreds of fake ChatGPT tokens are luring crypto investors. The issuers of these tokens are looking to take advantage of the craze surrounding the this technology innovation. CoinDesk Market Index (CMI) 1,121  −7.1 ▼ 0.6%   Bitcoin (BTC) $24,164  −233.3 ▼ 1.0%   Ethereum (ETH) $1,641  −17.5 ▼ 1.1%   S&P 500 3,991.05  −6.3 ▼ 0.2%   Gold $1,834  +1.3 ▲ 0.1%   Nikkei 225 27,104.32  −368.8 ▼ 1.3%   BTC/ETH prices per CoinDesk Indices, as of 7 a.m. ET (11 a.m. UTC) Bitcoin Sinks Than Rallies Above $24.1K After FOMC Minutes Stirred but not shaken, crypto markets dropped a little, rose some but remained in the red after the U.S. central bank\\'s Federal Open Market Committee (FOMC) released minutes that were short of encouraging. Bitcoin was recently trading at $24,164, down 1% over the last 24 hours. The largest cryptocurrency by market capitalization dropped near $23,600 in the immediate aftermath of the FOMC report, which noted slowing growth – a boon for investors hoping for more dovish Federal Reserve monetary policy – but also data suggesting that inflation and the prospects of a harsh recession remained real, pleasing monetary hawks. \"Everyone\\'s wary of what\\'s to come over the course of this year,\" Jake Boyle, chief commercial officer at crypto brokerage Caleb and Brown, said on CoinDesk TV. \"At this point, it looks like the stance has become more conservative on the basis that 25 basis points is less impactful than 50, but it\\'s critical that we all remember that it is still going up, which means that the solution is clearly not there.\" Boyle added: \"Paired with the regulatory uncertainty that the crypto space is seeming to have these days, it would be fair for us to make the',\n",
       "  'Join the most important conversation in crypto and web3! Secure your seat today One of the most significant events for the Ethereum blockchain is likely to be the Shanghai upgrade. Currently planned for the second half of 2023, the Shanghai upgrade will implement a number of improvements to Ethereum. Chief among them is the ability for ether (ETH) stakers to withdraw both their staked coins and accrued rewards. Users have helped to validate transactions on the so-called Beacon Chain since December 2020, when the proof-of-stake network launched. But so far staking has been a one-way trip: Funds were locked in the deposit contract while Ethereum developers built out the network in real time. This article is part of CoinDesk’s “BUIDL Week.” Kevin de Patoul is the co-founder and CEO of Keyrock. Protocols such as Lido, Rocketpool and StakeWise have begun offering “liquid staking” minted tokens to fill the gap. These tokens represent staked ETH but fluctuate in price, and can be used across the decentralized finance (DeFi) ecosystem. It remains to be seen how the upcoming Shanghai upgrade – which may precede a flood of ETH tokens into the market, by enabling new and existing stakers to withdraw – will affect these protocols that dominate liquid staking today. Overall, this upcoming upgrade has the ability to increase the popularity of ETH staking. It will drive competition between staking protocols to users’ benefit, while also improving the security of Ethereum’s new PoS chain. It’s easy to think that launching Shanghai in the middle of a bear market could hurt the staking ecosystem. Stakers, skittish about the macro outlook of crypto in 2023, may choose to withdraw their ETH, keeping their assets liquid in case of more market turmoil. Cautious of regulatory movements against staking providers, new stakers may not rush to deposit funds the same as during the frenzy of a bull market. In the long run, however, Shanghai (specifically, the ability to unstake and withdraw rewards) is bullish for Ethereum. Specifically, Shanghai will increase incentives for ETH liquidity providers in three main ways. First, Shanghai will spur more innovation in',\n",
       "  'Check out this selection of activities to keep the kids entertained this half term without breaking the bank Ethereum (ETH-USD) dropped 9% in value on Monday, after crypto-exchange Kraken agreed to end its crypto staking for US customers and pay $30m (£24.9m) to settle a Security Exchange Commission (SEC) charge. The crypto market did not respond well to the SEC\\'s attack on Kraken, as the announcement brought an end to the climb of bitcoin (BTC-USD) and ethereum since the beginning of 2023. Paxos, which partners with Binance to issue the BUSD stablecoin (BUSD-USD), has also been told by a New York regulator to halt the minting of new coins, according to a Bloomberg report. The global cryptocurrency market cap has digested the latest regulatory attacks on the industry by falling 1.6% in 24 hours to $1.05tn, according to Coingecko. Ethereum dropped 9% in the past seven days to $1,483, while bitcoin fell 6.2% to $21,537. The decent into the red began in earnest last Thursday when SEC chair Gary Gensler announced he would be charging Kraken with failing to register the offer and sale of its \"staking as a service\" program. Kraken, which is the third largest crypto-exchange in the world after Binance and Coinbase (COIN), had been offering staking services for at least half a dozen crypto tokens, including ethereum. The exchange advertised annual returns of as high as 21% on some staked instruments. Read more: Crypto live prices Gensler said: \"Today the SEC charged Kraken for the unregistered offer and sale of securities through its staking-as-a-service program. Whether it’s through staking-as-a-service, lending, or other means, crypto intermediaries must provide the proper disclosures & safeguards required by our laws.\" Gensler released a video to explain to the US public why the SEC is taking such a strict stance against platforms that offer staking services. In the case of ethereum, the second largest cryptocurrency in the world, you need 32 ether to create your own staking node and receive \"staking rewards\" in the same currency. This is called Solo Staking. However, most people do not have 32 ethereum to create',\n",
       "  'Join the most important conversation in crypto and web3! Secure your seat today Coinbase (COIN) has big plans for its newly announced Ethereum scaling product. The project, Base, built in collaboration with layer 2 network Optimism on Optimism’s Massachusetts Institute of Technology-licensed OP Stack, aims to reduce ETH transaction fees to 1 cent, integrate with other blockchains like Solana, Avalanche and Polygon, and serve as a springboard for the company’s “Master Plan” to bring 1 billion people into crypto by “buying, building or investing” projects in the “open financial system.” The announcement comes at a pivotal time for the largest U.S. crypto exchange. Coinbase’s most recent quarterly report showed a company in transition, with its core revenue stream of transaction volumes drying up amid the crypto winter. At the same time, it’s seeing growth in other potentially profitable business lines like staking and with other service fees. Base, a protocol Coinbase intends to “decentralize” over time, could become a moneymaker for the company that has long looked to diversify its balance sheet. This article is part of \"BUIDL Week\" and was published in The Node, CoinDesk\\'s daily roundup of the most pivotal stories in blockchain and crypto news. You can subscribe to get the full newsletter here. According to TechCrunch, Base will initially charge fees in the 10- to 50-cent range – comparable with leading Ethereum layer 2 networks such as Arbitrum and Optimism. And, although still just a testnet, it doesn’t seem like Base will want for early adopters: Established projects including Chainlink, Etherscan, Aave, Animoca Brands, Dune, Nansen, Magic Eden and Wormhole, among others, have signaled support. This is big news considering “Coinbase has no plans to issue a new network token,” as CoinDesk’s Shaurya Malwa put it bluntly. See also: Cathie Wood\\'s ARK Buys Over $13M of Coinbase Shares Coinbase has long taken a strategy of contributing technology and guidance to crypto, including targeting 10% of its cash holdings for venture opportunities. Not all of those experiments have fared well. For example, its non-fungible market (NFT) platform has struggled to gain market share since it launched last',\n",
       "  'Join the most important conversation in crypto and web3! Secure your seat today Maximalist dogma does no one any good. While much has been written about Bitcoin maximalism’s impact as a cultural force (and its inevitable decline), less has been said about how the ideology drives financial markets – including its influence on deployment decisions for institutional capital. This is worth examining because digital asset allocations may now be poised for a revolutionary shift towards the Ethereum blockchain. Bitcoin (BTC) miners, in particular, may face a new opportunity as Ethereum’s potential value is unlocked. This opportunity may help offset and reverse the pressured margins that have dominated the sector starting in 2022, and may continue for some time. Sam Tabar is chief strategist for Bit Digital, a bitcoin mining company listed on Nasdaq (BTBT). Next year, the number of bitcoins that can be mined per block will drop from 6.25 bitcoin to 3.125, making it harder for miners to turn a profit – unless, of course, the BTC price rises and/or network competition declines enough to compensate. Some believe this is exactly what will transpire, and much has been written on the Bitcoin blockchain’s supply/demand mechanism and its impact on mining economics. But from a simplistic, point-in-time perspective, at the exact moment of halvening, miner revenue will be instantly cut in half (assuming all else remains equal, admittedly a big assumption). Ethereum, at first glance, may seem like an unlikely contender to add value to bitcoin miners. The network’s recent transition to a “proof-of-stake” (PoS) model eliminates the role of mining altogether. However, a PoS model for consensus allows Ethereum validators to receive passive ether (ETH) rewards, something currently not possible with Bitcoin. The mining sector is sitting on massive bitcoin reserves that have limited use as a financial instrument, outside of converting to cash to cover operations, and holding for the long term as bitcoin’s value recovers. Ethereum’s network and its possibilities, by contrast, are always changing. Ethereum developers have fueled a proliferation of use cases, including the rise of decentralized exchanges (DEX), stablecoins and non-fungible tokens (NFT). Ethereum’s',\n",
       "  'Sally Walker, Britain\\'s former spy chief talks about her first boss Ukraine has been purchasing military equipment using cryptocurrencies, with the nation\\'s deputy digital minister claiming that 60% of suppliers were able to accept crypto in return for combat essentials such as \"helmets and bullet proof vests\". One year ago, Russian president Vladimir Putin began the invasion of Ukraine. Two days after the war broke out on 24 February 2022, the Ukrainian government\\'s Twitter accounts posted requests for cryptocurrency donations in bitcoin (BTC-USD), ethereum (ETH-USD) and the USDT (USDT-USD) stablecoin. As blockchains are transparent publicly distributed ledgers, it can be seen that more than 100,000 people have sent crypto to Ukraine. The country claims that some of these donations came from Russians, who have sent \"significant amounts\". On this week\\'s episode of Yahoo Finance UK\\'s The Crypto Mile, Ukrainian deputy digital minister Alex Bornyakov described cryptocurrency donations to Ukraine as varying \"from one dollars worth, to millions of dollars\". Read more: Crypto live prices He said that Ukraine turned to crypto at the start of the invasion because the nation needed help immediately. \"If we used the traditional financial system it was going to take days,\" he said. \"We were able to secure the purchase of vital items in no time at all via crypto, and what is amazing is that around 60% of suppliers were able to accept crypto, I didn\\'t expect this.\" Although his interview with The Crypto Mile via satellite internet link from his office in Ukraine was restricted by periodic power cuts, he was able to add: \"Companies manufacturing goods like bulletproof vests, helmets and different kind of optics, even they were able to receive crypto\". Alona Shevchenko, co-founder Ukraine DAO, told Yahoo Finance UK: “In the beginning of the full scale invasion a year ago, Ukraine found itself in an extremely tough situation and those first days were absolutely critical for our defence. \"The central bank introduced limits on foreign currency transfers in and out of Ukraine to stop the run on the hryvnia. \"Thanks to crypto we were able to cover some of our',\n",
       "  \"Join the most important conversation in crypto and web3! Secure your seat today Decentralized finance (DeFi) exchange GMX logged fees of over $5 million in a 24-hour period over the weekend – temporarily making it the largest revenue generator in DeFi, ahead of even the Ethereum blockchain. This added to the $120 million in total fees accrued since September 2021, GMX’s dashboard data shows – which may signal fundamental strength for GMX’s native tokens. The fees are shared across GMX’s two tokens, gmx and glp. Gmx is the utility and governance token and accrues 30% of the platform's generated fees, while glp is the liquidity provider token that accrues 70% of the platform's generated fees. Ethereum fees clocked in at $4.7 million over that period. These fees were generated from user actions on Ethereum, such as transactions or issuance of ERC20 tokens. However, these fees do not include the fees generated by applications on Ethereum itself. Uniswap, for instance, saw upward of $1 million in fees collected from users. DeFi products like GMX rely on smart contracts to offer users financial services, such as trading and lending. GMX allows users to trade futures, or financial derivatives of spot tokens, on its exchange with leverage of up to 50 times the initial collateral. GMX features such as low slippage, cheap fees and protection against unwanted liquidations have also contributed to the DEX’s popularity. It locked over $500 million worth of tokens as of Monday, with $455 million on Arbitrum and the remaining on Avalanche. As such, some crypto Twitter community members said a portion of Friday’s $5 million revenue came as Mechanism Capital founder Andrew Kang closed his multimillion-dollar positions on bitcoin and ether on GMX. Meanwhile, Ethereum was back to the top spot on Monday with over $3 million in fees generated over a 24-hour period. Related Quotes\",\n",
       "  'The Ethereum community can now test staking and withdrawals via Validation Cloud\\'s platform ZUG, Switzerland, Feb. 15, 2023 /PRNewswire/ -- Validation Cloud, a Web3 data streaming and infrastructure company, launched the first staking withdrawals for Ethereum following last week\\'s kickoff of the Zhejiang testnet. Anyone can now create up to 100 testnet validators on Validation Cloud\\'s Ethereum staking platform and test stake withdrawals. Validation Cloud\\'s rapid productization of Zhejiang makes it the first infrastructure company in the world to make that functionality seamlessly available to the entire Ethereum community. Zhejiang represents the first of three Ethereum testnets ahead of the Shanghai upgrade on mainnet, which is expected in March 2023. Once Shanghai launches on mainnet, it will unlock over $25B of ETH supply, marking one of the most significant events in the history of Web3. \"Validation Cloud saw the Zhejiang testnet as an opportunity to support the Ethereum community and demonstrate the power of our staking platform. We are providing free and open access to deploy testnet Ethereum validators and withdraw stake - which has never been done before,\" said Validation Cloud CEO, Michael Horowitz. Validation Cloud has made its Ethereum staking platform exceptionally accessible to the community. Anyone can create an account at validationcloud.io and gain immediate access to deploy validators and test withdrawals. Users only need to enter a withdrawal address and the number of validators (1-100) they wish to deploy. A complete, step-by-step guide can be found here. Validation Cloud\\'s Ethereum staking platform was championed by engineers Mo Husseini and Todor Tsankov, joining the company from the Web3 giant Crypto.com and the UK unicorn Marshmallow, respectively. About Validation Cloud Validation Cloud is a Web3 data streaming and infrastructure company that connects organizations into Web3 through a fast, scalable, and intelligent platform. Headquartered in Zug, Switzerland, Validation Cloud offers highly performant and customizable products in staking, node, and data-as-a-service. Learn more at\\xa0Validationcloud.io | LinkedIn | Twitter\\xa0 | Medium View original content:https://www.prnewswire.com/news-releases/validation-cloud-launches-first-staking-withdrawals-for-ethereum-on-zhejiang-301746962.html SOURCE Validation Cloud',\n",
       "  'Join the most important conversation in crypto and web3! Secure your seat today Recent regulatory initiatives have shown the Securities and Exchange Commission’s (SEC) dominant position in the U.S. in regulating the digital assets space, JPMorgan (JPM) said in a research report last week. Its actions have also shown the SEC’s bias in viewing most crypto, with maybe bitcoin (BTC) as the only exception, as securities, the report said. It noted that SEC Chair Gary Gensler started pushing back against implementing special rules for the crypto industry in September, arguing that most cryptocurrencies should be classed as securities and thus be regulated under existing securities laws. “Given the above it should not come as a surprise that the SEC looks at the offering of a staking service as being similar to offering any other type of security,” the note said. This opens the way for other firms offering staking services to have to be registered as a securities platform with the SEC, the report added. The bank predicted more regulatory actions on stablecoin issuers, custody and protection of investors’ digital assets, and on the unbundling of broker/trader/lending/clearing/custody activities. It also expects mandated regular disclosure, reporting and auditing of reserves, assets and liabilities across major crypto entities, analysts led by Nikolaos Panigirtzoglou wrote. These regulations will lead to “convergence of the crypto ecosystem towards the traditional financial system over time,” he added. “Staking business should shift more towards direct staking for institutional investors and more towards decentralized (DeFi staking) alternatives for retail investors,” the note said. DeFi is an umbrella term for a variety of financial applications carried out on a blockchain. Ether (ETH) will likely see additional selling pressure on Ethereum following the forthcoming Shanghai upgrade, as crypto exchange Kraken has 1.2 million ETH staked on the network, a significant amount of which is owned by its U.S. clients. Adding the 1 million ether from staking rewards that could be withdrawn immediately after the upgrade, the downside risk to ether becomes even more significant, the note added. Read more: Bernstein: SEC Tightening of Crypto Regulations Is Not an Existential Threat.'],\n",
       " 'SOL': ['Two experimental brick-and-mortar stores in New York City and Miami centered around the Solana blockchain are closing less than a year after opening. The stores, which were launched with funds from the Solana Foundation, were meant to spread the word about the blockchain and its cryptocurrency, SOL, whose value has fallen after FTX’s implosion and subsequent bankruptcy. From August to the end of 2022, the independently owned and operated stores, dubbed “Solana Spaces,” helped facilitate some 16,000 tutorials of the network, according to the Solana Foundation, which works to build out the blockchain. “While it’s unfortunate that Spaces is sunsetting its two experimental retail locations, the Solana Foundation looks forward to the community creating other unique onboarding experiences,\" a spokesperson for the foundation said in a statement to Fortune. On a tour of the New York City store in Hudson Yards a day before it opened in July, Fortune found that people were excited by the concept. This version of the store included a display of Degenerate Ape Academy NFTs on the wall and an interactive dashboard of the real-time transactions happening on the blockchain. It also had a station to help customers create a Phantom wallet, the most popular crypto wallet for Solana. At the time, Vibhu Norby, the Solana Spaces CEO, told Fortune that the store is “an experiment that we think a lot of people will love.” The store closings come as the larger crypto market continues to struggle, with even the most popular cryptocurrency, Bitcoin, not able to maintain an extended bull run. The Solana blockchain and its token SOL have faced headwinds in particular because of close ties with Sam Bankman-Fried, the disgraced former CEO of FTX who\\'s now facing criminal charges for fraud. The network bills itself as a faster alternative to the dominant blockchain for decentralized applications, Ethereum, and received support from Sam Bankman-Fried, who called SOL the most “underrated token right now…” in an August interview with Fortune. This story was originally featured on Fortune.com More from Fortune:\\xa05 side hustles where you may earn over $20,000 per year—all while working from homeMillennials’',\n",
       "  '* Mexico\\'s retail sales rise 0.1% in Dec from Nov * Israeli shekel nears three-year low * EM stocks down nearly 1%, currencies off 0.3% By Amruta Khandekar Feb 21 (Reuters) - Latin American currencies were muted on Tuesday as focus turned to minutes from the U.S. Federal Reserve\\'s latest meeting due later in the week, with gains in the Chilean peso limiting declines. MSCI\\'s index for Latin American currencies was down 0.02% at 1400 GMT after three straight sessions of gains, while stocks in the region were also flat. Investors are awaiting minutes from the Fed\\'s first meeting of 2023 due on Wednesday for clues on how long the central bank could keep tightening monetary policy. \"The Fed minutes will be more closely watched than ever as the market looks for every clue as to the likely path of Fed rates between here and the terminal rates,\" said Christian Lawrence, senior market strategist at Rabobank. \"U.S. real rates are the most important driver of pretty much every asset class at the moment and EM is no exception.\" Hawkish comments from several Fed policymakers as well as recent data signalling strength in the U.S. economy has doused hopes of the Fed ending its rate hiking cycle soon, driving gains in the dollar and pressuring risk-sensitive EM assets. On Tuesday, Chile\\'s peso rose 0.7% against the greenback, clawing back losses from the previous session when it logged its steepest one-day percentage fall in over two weeks. Mexico\\'s peso was flat. Data showed retail sales in Latin America\\'s second largest economy rose 0.1% in December from November. The peso has risen over 6% so far in 2023 and has been among the best performing currencies in Latin America, with analysts pointing to its close ties with the U.S. economy as the reason. As investors returned after a long weekend in the United States, markets in Brazil and Argentina remained closed for the second straight day on account of public holidays. The Peruvian sol rose 0.2% while the Colombian peso was down 0.5%. Elsewhere in emerging markets, Israel\\'s shekel slid 1.6% against the',\n",
       "  'Sally Walker, Britain\\'s former spy chief talks about her first boss Ukraine has been purchasing military equipment using cryptocurrencies, with the nation\\'s deputy digital minister claiming that 60% of suppliers were able to accept crypto in return for combat essentials such as \"helmets and bullet proof vests\". One year ago, Russian president Vladimir Putin began the invasion of Ukraine. Two days after the war broke out on 24 February 2022, the Ukrainian government\\'s Twitter accounts posted requests for cryptocurrency donations in bitcoin (BTC-USD), ethereum (ETH-USD) and the USDT (USDT-USD) stablecoin. As blockchains are transparent publicly distributed ledgers, it can be seen that more than 100,000 people have sent crypto to Ukraine. The country claims that some of these donations came from Russians, who have sent \"significant amounts\". On this week\\'s episode of Yahoo Finance UK\\'s The Crypto Mile, Ukrainian deputy digital minister Alex Bornyakov described cryptocurrency donations to Ukraine as varying \"from one dollars worth, to millions of dollars\". Read more: Crypto live prices He said that Ukraine turned to crypto at the start of the invasion because the nation needed help immediately. \"If we used the traditional financial system it was going to take days,\" he said. \"We were able to secure the purchase of vital items in no time at all via crypto, and what is amazing is that around 60% of suppliers were able to accept crypto, I didn\\'t expect this.\" Although his interview with The Crypto Mile via satellite internet link from his office in Ukraine was restricted by periodic power cuts, he was able to add: \"Companies manufacturing goods like bulletproof vests, helmets and different kind of optics, even they were able to receive crypto\". Alona Shevchenko, co-founder Ukraine DAO, told Yahoo Finance UK: “In the beginning of the full scale invasion a year ago, Ukraine found itself in an extremely tough situation and those first days were absolutely critical for our defence. \"The central bank introduced limits on foreign currency transfers in and out of Ukraine to stop the run on the hryvnia. \"Thanks to crypto we were able to cover some of our',\n",
       "  'SOL Global Invests $825,000 to Increase its Position in Simply Better Brands Toronto, Ontario--(Newsfile Corp. - February 23, 2023) - SOL Global Investments Corp. (CSE: SOL) (OTC Pink: SOLCF) (FSE: 9SB) (\"SOL Global\" or the \"Company\") a diversified private equity firm targeting best-in-class companies that operate in high-growth industries is pleased to announce that it has completed an investment in Simply Better Brands Corp. (TSXV: SBBC) (OTCQB: PKANF) (\"Simply Better\"). SOL Global acquired 3.3 million units of Simply Better (each a \"Unit\") at \\u200ea price of $0.25 per Unit, representing approximately 4.69% of the issued and outstanding common shares of Simply Better. Each Unit consists of one common share of Simply Better (each a \"Common Share\") and one-half of one \\u200eCommon Share purchase warrant (each a \"Warrant\"). Each whole Warrant is exercisable for a period of two years at an exercise price \\u200eof $0.45 per Common Share. Following the transaction, the Company\\'s holding percentage of Simply Better was 8.0% on a non-diluted basis and 7.9% on a fully diluted basis. Simply Better Brands Corp. leads an international omni-channel platform with diversified assets in the emerging plant-based and holistic wellness consumer product categories; focused on leading innovation for the informed Millennial and Gen Z consumers in the rapidly growing plant-based, natural, and active lifestyle space. The Simply Better business model creates high-impact synergies, such as data sharing to enhance ecommerce platforms conversion optimization, cross-brand consumer journey migration, and \"back end\" infrastructure leverage. Expansion is expected into high-growth consumer product categories including CBD, plant-based food and beverage, and the global pet care and skin care industries. Kevin Taylor, CEO and Chairman, stated, \"The Simply Better team has tremendous conviction in the business, and we are excited to increase our stake in the company to help Simply Better grow rapidly and capture market share.\" About SOL Global Investments Corp. SOL Global is a diversified investment and private equity holding company engaged in the small and mid-cap sectors. SOL Global\\'s investment partnerships range from minority positions to large strategic holdings with active advisory mandates. The Company\\'s seven primary business segments include Retail, Agriculture, QSR',\n",
       "  '(Bloomberg) -- Bill Gates has acquired a minority stake in Heineken Holding NV, the controlling shareholder of the world’s second-largest brewer, for about $902 million. Most Read from Bloomberg Apple Makes Major Progress on No-Prick Blood Glucose Tracking for Its Watch McKinsey Plans to Eliminate About 2,000 Jobs in One of Its Biggest Rounds of Cuts Putin Has Decided to Normalize His War China Urges State Firms to Drop Big Four Auditors on Data Risk How Much Do Investors Say They Need to Retire? At Least $3 Million The Microsoft founder and philanthropist last week picked up 3.8% of Heineken Holding, according to a filing by the Dutch regulator AFM. He bought 6.65 million shares in Heineken Holding, in his individual capacity, and another 4.18 million shares through the Bill & Melinda Gates Foundation Trust. The shares are valued at €848.2 million ($902 million), according to Bloomberg calculations at closing share price value of February 17. Gates acquired the stake on the same day that Fomento Economico Mexicano SAB launched a €3.7 billion stock and equity-linked sale for part of its holdings in Heineken. Femsa, as the Mexican Coca-Cola bottler and convenience store operator is known, had last week announced plans to offload its stake in Heineken after a strategic review. Femsa said its accelerated bookbuild offering of €1.9 billion in shares in Heineken NV priced at €91 apiece, and €1.3 billion in shares in Heineken Holding sold at €75 each. Heineken Holding controls 50% of Heineken NV, maker of the namesake beer as well as Amstel, Moretti, and Sol among others. The Bill & Melinda Gates Foundation Trust foundation has also invested in Dutch online grocer Picnic BV and holds a 1.34% stake in Dutch fertilizer producer OCI NV. The foundation has long been a powerhouse in the nonprofit world, employing almost 1,800 people and spending nearly $80 billion since 2000. Heineken and the Bill & Melinda Gates Foundation didn’t immediately respond to a request for comment. --With assistance from Sarah Jacob. (Updates with Heineken Holdings stake in Heineken NV in the fifth paragraph) Most Read from Bloomberg Businessweek',\n",
       "  \"NORTHAMPTON, MA / ACCESSWIRE / February 23, 2023 / Tapestry, Inc.: Global brands Coach, Kate Spade New York and Stuart Weitzman are united under Tapestry's umbrella to not only deliver best-in-class products, but experiences - for both our consumers and the employees who create them. We are committed to developing the next generation of Black and brown talent in fashion. We do this through four interconnected principles: talent, culture, community, and marketplace. We actively engage in the communities in which we live and work to increase access to education in the design world. Through corporate, foundation and brand-led partnerships with Historically Black Colleges and Universities (HBCUs), the Thurgood Marshall College Fund, Fashion Institute of Technology's Social Justice Center, The Opportunity Network, Harlem's Fashion Row, and more, Tapestry and its house of brands is equipping historically underrepresented and marginalized students around the world with the resources needed to achieve their dreams. Since 2021, the Tapestry Foundation has awarded over $1M to support Black and brown communities while in FY2022, the Coach Foundation has awarded 4,200 scholarships and invested $12.5 million in financial grants and product donations. We believe that by embracing our responsibility in the marketplace as a global fashion company, we can affect positive change for our industry and deliver on our values. We aim to set the standard for consumer inclusion and advocacy through our brands. In 2017, Tapestry joined the Open to All campaign, a national effort to ensure everyone feels safe, respected and accepted as they live, shop, and work, regardless of race, ethnicity, national origin, sex, sexual orientation, gender identity and expression, immigration status, religion or disability. In 2022, as part of this same coalition, Tapestry signed onto the Mitigate Racial Bias in Retail Charter, which aims to bring retailers together to implement tactics and actions that can mitigate racial biases from the shopper experience and create more welcoming retail environments for all. Store employees across all Tapestry brands have started to receive training and accountability measures to ensure an inclusive shopping experience for our BIPOC customers. By attracting, retaining and growing top talent from a\",\n",
       "  'Funding enables community-led initiatives in Appalachia, Southern Virginia, Philadelphia, Baltimore, and Washington, D.C. WASHINGTON, Feb. 14, 2023 (GLOBE NEWSWIRE) -- Today, Sol Systems, a national solar energy company focused on developing and operating renewable energy assets with community impact, announced an additional $1.2 million in investments into community organizations focused on environmental justice, workforce training and climate resiliency. This investment builds on the initial $200,000 invested in 2022 and commits new funding to the original five partners while adding five new partners: Appalachian Voices, Virginia Environmental Justice Collaborative, Community Housing Partners, Climate Access Fund, and Rebuilding Together DC Alexandria. “At Sol we aim to build critical sustainable infrastructure for the future and also ensure that local communities benefit. We are proud to expand our collaboration and investment with these community partner organizations and Microsoft and look forward to building on this foundation moving forward,” said Yuri Horwitz, Chief Executive Officer.  “Microsoft has made commitments to environmental sustainability, diversity and inclusion, and racial equity, and an important point of intersection for these commitments is environmental justice. For us, the foundation of pursuing environmental justice is to center communities and those who have been impacted most by industrial pollution and are more vulnerable to climate change.\\xa0 We believe it is important to fund community-serving organizations like these to implement solutions with partners like Sol Systems,” said Danielle Decatur, Director of Environmental Justice, Microsoft. The total announced $1.4 million in investments is the initial phase of a partnership with Microsoft, announced in July of 2020, that combines a 500 MW framework power purchase agreement (PPA) with a strategy to invest over $50 million in communities disproportionately impacted by environmental issues. “Appalachian Voices is thrilled to partner with Sol Systems to expand the breadth of support offered by our Appalachian Solar Finance Fund (SFF) to community anchor institutions such as schools, hospitals, libraries, and fire departments in coal-impacted Central Appalachian counties. The Impact investment in the SFF establishes a dedicated ‘solar readiness’ funding pool targeted toward facilities whose key barrier to solar is related to poor roof conditions. This innovative approach will help',\n",
       "  'In this article, we will take a look at the 12 most promising tech stocks according to analysts. To see more such companies, go directly to 5 Most Promising Tech Stocks According to Analysts. As the world continues to grapple with soaring energy costs, supply chain issues and existential climate change problems, all eyes are on the renewable energy sector that continues to gain traction amid increasing demand and long-term growth catalysts. And it seems significant progress is being made in the industry. In 2022, for the first time in history, renewable energy investments were equal to global investments in fossil fuels, according to a report from BloombergNEF. Annual investment in renewable energy, electrified transport and heat, energy storage related technologies totaled $1.1 trillion in the period. The Bloomberg report said that investments in wind, solar and electric vehicles accounted for the biggest chunk of this huge growth. The Russian invasion of Ukraine and its effects on the energy markets hastened the green energy revolution, at least in Europe. A report from IEA says that wind and solar PV have the potential to cut the EU’s reliance on Russian energy by 2023. The report said that annual renewable capacity additions broke a new record in 2021, increasing 6% to almost 295 GW. Supply-chain woes faced by almost every industry in 2022 also affected the renewable energy sector. The IEA report said that solar PV and wind costs were expected to remain higher in 2022 and 2023 due to freight and commodity costs.\\xa0 However, record prices of natural gas and oil continue to make solar and wind energy prices look attractive on a comparative basis. Another long-term growth catalyst for the solar energy sector is the Inflation Reduction Act, which includes huge tax credits for the solar and wind industry. Photo by Science in HD on Unsplash Our Methodology For this article we listed down several notable solar energy stocks and sourced their average analyst price targets based on data from the Wall Street Journal. We then picked 12 of these solar stocks that present the most upside potential from their',\n",
       "  '* EM stocks hit lowest since early Jan * Fed meeting minutes on tap * Indian inflation remains high- MPC minutes * Latam stocks, FX muted By Amruta Khandekar and Bansari Mayur Kamdar Feb 22 (Reuters) - Emerging market stocks hit a near seven-week low on worries around the U.S. rate hike trajectory ahead of the Federal Reserve\\'s meeting minutes while Mexico\\'s peso rose as investors awaited inflation data from the country later in the week. MSCI\\'s index for EM equities fell 1.2% at 1454 GMT, hitting its lowest since early January. Minutes from the Fed\\'s latest meeting due at 1900 GMT could offer further clarity on the central bank\\'s future monetary tightening plans at a time when data pointing to surprising strength in major global economies has spurred fears of interest rates staying higher for longer. \"Markets are nervous about the Fed, but policymakers ultimately face limits. Despite Chair (Jerome) Powell\\'s uncompromising rhetoric, the Fed has already pivoted to smaller hikes and the next pivot to stopping the rate hikes will be more consequential for markets,\" said Andres Abadia, chief Latin American economist at Pantheon Macroeconomics. Meanwhile, Latin American stocks and currencies were muted against the dollar. Oil exporter Mexico\\'s peso which has been one of the strongest performing currencies in the Latam region this year rose 0.5% against the greenback despite lower crude prices. Inflation data from the country as well as minutes from the Bank of Mexico\\'s February monetary policy meeting when it raised rates by a greater-than-expected 50 basis points are due on Thursday. \"We (and markets) are awaiting Mexican inflation data tomorrow as well as Banxico’s February meeting minutes before considering further gains in the MXN,\" wrote Juan Manuel Herrera, senior economist at Scotiabank in a note. Another 50 basis point rate hike is likely from the Bank of Mexico next month, Herrera added. Chile\\'s peso rose 0.5%, snapping a two-day losing streak, while the Peruvian sol was flat. Markets in Brazil were partially closed and set to open at 11:00 am ET (1600 GMT). Elsewhere in emerging markets, South Africa\\'s rand strengthened against the',\n",
       "  \"Wilmington, Delaware --News Direct-- Renske Technologies Get ready to level up your investment game and score big in 2023! We've done the research and crunched the numbers to bring you the ultimate list of the best coins to invest in for the coming year. Whether you're a crypto newbie or a seasoned pro, our list has something for everyone. From the hottest up-and-comers to the established heavyweights, we've got the insider scoop on which coins are poised for growth and success. So sit back, relax, and get ready to make some serious coins with our top picks for the best coins to invest in for 2023! yPredict: data-driven cryptocurrency leveraging AI and ML. Algorand: offering high scalability and security. Aptos: cloud-based retail solutions for advanced analytics and omnichannel commerce. Solana: A fast, secure, and scalable blockchain platform for marketplaces. Cardano: third-generation blockchain for sustainability, security, and scalability. <<<<< CheckOut yPredict.ai>>>>> Cryptocurrency trading can be a lucrative opportunity for investors, but it is not without its challenges. Signal providers, in particular, can be problematic as they may lack trustworthiness, accuracy, transparency, and customization. However, yPredict is an innovative platform that addresses these issues and leverages artificial intelligence, machine learning, financial expertise, and investor insights to provide accurate and data-driven insights. yPredict is also featured pick in NewsDirect's Best Coins to invest in 2023 list. yPredict uses cutting-edge algorithms and AI to analyze information and generate real-time insights into the cryptocurrency market. With this support, investors can make more informed decisions and maximize their returns. The platform provides real-time trading signals, chart pattern recognition, technical analysis, sentiment analysis, and a trading terminal to help investors trade with confidence. yPredict offers access to an extensive network of data archives, prediction platforms, analytical tools, and trading terminals. With this support, investors can feel confident that they have everything they need to succeed. With a low market cap at the listing, yPredict has significant growth potential. Also, it provides a marketplace for data scientists and machine learning engineers to monetize their expertise in data science and ML while also assisting corporations and institutions in making\"]}"
      ]
     },
     "execution_count": 101,
     "metadata": {},
     "output_type": "execute_result"
    }
   ],
   "source": [
    "articles = {ticker:scrap_and_process(urls) for ticker, urls in cleaned_urls.items()}\n",
    "articles"
   ]
  },
  {
   "cell_type": "markdown",
   "metadata": {},
   "source": [
    "# Summarize all articles\n",
    "This code defines a function named summarize that takes in a list of articles and returns a list of their corresponding summaries.\n",
    "\n",
    "The function first initializes an empty list summaries to store the generated summaries. It then iterates over each article in the input articles. For each article, it encodes it into input ids using the encode method of the tokenizer object. It then generates a summary using the generate method of the model object with the input ids as the input. The generate method generates a summary by performing beam search with a beam width of 5 and a maximum length of 55 tokens. The early_stopping parameter is set to True to stop the search when the highest scoring summary is generated.\n",
    "\n",
    "The generated summary is then decoded using the decode method of the tokenizer object with skip_special_tokens=True to remove any special tokens such as [CLS] and [SEP] that were added during encoding. The decoded summary is appended to the summaries list.\n",
    "\n",
    "Finally, the code defines a dictionary named summaries whose keys are the tickers and values are the corresponding summaries of their articles, obtained by calling the summarize function on the articles of each ticker using a dictionary comprehension."
   ]
  },
  {
   "cell_type": "code",
   "execution_count": 102,
   "metadata": {},
   "outputs": [],
   "source": [
    "def summarize(articles):\n",
    "    \"\"\"Summarize articles\n",
    "    :param articles: list of articles\n",
    "    :return: list of summaries\n",
    "    \"\"\"\n",
    "    summaries = []\n",
    "    for article in articles:\n",
    "        input_ids = tokenizer.encode(article, return_tensors='pt')\n",
    "        output = model.generate(input_ids, max_length=55, num_beams=5, early_stopping=True)\n",
    "        summary = tokenizer.decode(output[0], skip_special_tokens=True)\n",
    "        summaries.append(summary)\n",
    "    return summaries"
   ]
  },
  {
   "cell_type": "code",
   "execution_count": 103,
   "metadata": {},
   "outputs": [
    {
     "data": {
      "text/plain": [
       "{'BTC': ['Business intelligence software company reported fourth quarter revenue. MicroStrategy sold bitcoin for first time in fourth quarter',\n",
       "  'Base aims to improve data processing and transaction costs. Initial projects will focus on scaling and security',\n",
       "  'Fintech firm reported fourth-quarter revenue of $1.83 billion. Cash App generated $35 million in bitcoin gross profit in the quarter',\n",
       "  '‘This could get bad,’ developer warns of lack of funding. Lee says crypto asset prices are in middle of ‘bear market’',\n",
       "  'Bitcoin has surged over 45% so far this year, outperforming traditional risk assets.',\n",
       "  'Retail sales rise 3% in January, inflation eases. Weekly take on events in the stock and bond markets',\n",
       "  'Largest cryptocurrency is closing out its best January in a decade. Speculators have returned to the market, driving gains',\n",
       "  'University of Texas McCombs professor is ‘moral sleuth’. He and his doctoral candidate uncovered abuses in the crypto market',\n",
       "  \"BTB's Texas mining farm has been operating since January 17, 2023. Revenue for full fiscal year ending June 30, 2023 expected to be $1.8 million\",\n",
       "  'We are aware of the issue and are working to resolve it.'],\n",
       " 'ETH': ['The SEC has been aggressively pursuing increased regulation. Staking-as-a-service products were marketed to retail traders',\n",
       "  'Markets react to less-than-encouraging minutes from FOMC. Bitcoin, Ethereum and other cryptos rebound later in the day',\n",
       "  'Shanghai upgrade planned for second half of 2023. Staking protocols offering ‘liquid staking’ tokens to fill the gap',\n",
       "  'Exchange to pay $30m to settle SEC charge. Paxos tells Bloomberg to stop issuing new coins',\n",
       "  'Base launched in testnet, aims to reduce fees to 1 cent. Largest U.S. crypto exchange is in transition amid crypto winter',\n",
       "  'Ethereum’s potential value may be unlocked, offsetting Bitcoin’s margins.',\n",
       "  'Russia sent millions of dollars to help, Ukraine says. Around 60% of suppliers were able to accept crypto, deputy minister says',\n",
       "  'GMX is Decentralized Finance’s (DEX) largest revenue generator. Gmx and glp tokens have been outperforming in recent months',\n",
       "  'Cloud is the first Web3 data streaming and infrastructure company to offer Ethereum staking functionality.',\n",
       "  'The SEC’s stance on crypto shows bias, bank says. Staking business should shift more towards DeFi, JPMorgan says'],\n",
       " 'SOL': ['Store in NYC’s Hudson Yards opened in July. Miami store opened in December 2018',\n",
       "  \"Chile's peso recovers from steepest one-day percentage fall in over two weeks.\",\n",
       "  'Russia sent millions of dollars to help, Ukraine says. Around 60% of suppliers were able to accept crypto, deputy minister says',\n",
       "  'Private equity firm targeting best-in-class companies in high-growth industries.',\n",
       "  'The Bill & Melinda Gates Foundation acquired the stake. Shares are valued at 848.2 million, according to Bloomberg calculations',\n",
       "  'Global fashion company with brands Coach, Kate Spade New York and Stuart Weitzman.',\n",
       "  'Sol Systems to invest an additional $1.2 million in community projects. Initial phase of partnership with Microsoft focuses on environmental justice',\n",
       "  'Renewable energy investments were equal to fossil fuels in 2022.',\n",
       "  'Fed meeting minutes due at 1900 GMT. Indian inflation remains high, MPC minutes seen as key',\n",
       "  \"Data-driven cryptocurrency is featured pick in NewsDirect's Best Coins to invest in.\"]}"
      ]
     },
     "execution_count": 103,
     "metadata": {},
     "output_type": "execute_result"
    }
   ],
   "source": [
    "summaries = {ticker:summarize(articles) for ticker, articles in articles.items()}\n",
    "summaries"
   ]
  },
  {
   "cell_type": "markdown",
   "metadata": {},
   "source": [
    "# Adding sentiments analysis\n",
    "This code uses the pipeline function from the Hugging Face Transformers library to create a sentiment analysis pipeline. The pipeline is initialized with the sentiment-analysis task, which allows it to classify the sentiment of a given piece of text as positive or negative.\n",
    "\n",
    "The pipeline function returns a callable object that can be used to perform the specified task on a given input. In this case, the sentiment object is used to analyze the summaries for each ticker. The sentiment function is called on each summary using a list comprehension, resulting in a list of sentiment analysis scores for each ticker.\n",
    "\n",
    "The scores variable is a dictionary that stores the sentiment analysis scores for each ticker. The keys in the dictionary are the ticker symbols, and the values are lists of sentiment analysis scores. Each score is represented as a dictionary with two keys: label and score. The label key indicates whether the sentiment is positive or negative, and the score key indicates the confidence level of the prediction, with values ranging from 0 to 1."
   ]
  },
  {
   "cell_type": "code",
   "execution_count": 104,
   "metadata": {},
   "outputs": [
    {
     "name": "stderr",
     "output_type": "stream",
     "text": [
      "No model was supplied, defaulted to distilbert-base-uncased-finetuned-sst-2-english and revision af0f99b (https://huggingface.co/distilbert-base-uncased-finetuned-sst-2-english).\n",
      "Using a pipeline without specifying a model name and revision in production is not recommended.\n"
     ]
    },
    {
     "data": {
      "application/vnd.jupyter.widget-view+json": {
       "model_id": "fba7f33b1ddd4119950fef84d7df5fe8",
       "version_major": 2,
       "version_minor": 0
      },
      "text/plain": [
       "Downloading (…)lve/main/config.json:   0%|          | 0.00/629 [00:00<?, ?B/s]"
      ]
     },
     "metadata": {},
     "output_type": "display_data"
    },
    {
     "data": {
      "application/vnd.jupyter.widget-view+json": {
       "model_id": "bf6b2f8de3b240fcad02d1cc408cd36b",
       "version_major": 2,
       "version_minor": 0
      },
      "text/plain": [
       "Downloading (…)\"pytorch_model.bin\";:   0%|          | 0.00/268M [00:00<?, ?B/s]"
      ]
     },
     "metadata": {},
     "output_type": "display_data"
    },
    {
     "data": {
      "application/vnd.jupyter.widget-view+json": {
       "model_id": "9a563ff59b854d569ef2a908706a74de",
       "version_major": 2,
       "version_minor": 0
      },
      "text/plain": [
       "Downloading (…)okenizer_config.json:   0%|          | 0.00/48.0 [00:00<?, ?B/s]"
      ]
     },
     "metadata": {},
     "output_type": "display_data"
    },
    {
     "data": {
      "application/vnd.jupyter.widget-view+json": {
       "model_id": "fd955f84273145779fbec13626dff17e",
       "version_major": 2,
       "version_minor": 0
      },
      "text/plain": [
       "Downloading (…)solve/main/vocab.txt:   0%|          | 0.00/232k [00:00<?, ?B/s]"
      ]
     },
     "metadata": {},
     "output_type": "display_data"
    }
   ],
   "source": [
    "sentiment = pipeline('sentiment-analysis')"
   ]
  },
  {
   "cell_type": "code",
   "execution_count": 106,
   "metadata": {},
   "outputs": [
    {
     "data": {
      "text/plain": [
       "{'BTC': [{'label': 'NEGATIVE', 'score': 0.9180805087089539},\n",
       "  {'label': 'POSITIVE', 'score': 0.8656954765319824},\n",
       "  {'label': 'NEGATIVE', 'score': 0.9643605351448059},\n",
       "  {'label': 'NEGATIVE', 'score': 0.9995821118354797},\n",
       "  {'label': 'POSITIVE', 'score': 0.9835985898971558},\n",
       "  {'label': 'POSITIVE', 'score': 0.9602307081222534},\n",
       "  {'label': 'POSITIVE', 'score': 0.9985652565956116},\n",
       "  {'label': 'POSITIVE', 'score': 0.5332544445991516},\n",
       "  {'label': 'NEGATIVE', 'score': 0.9601682424545288},\n",
       "  {'label': 'POSITIVE', 'score': 0.9979088306427002}],\n",
       " 'ETH': [{'label': 'NEGATIVE', 'score': 0.9855942130088806},\n",
       "  {'label': 'NEGATIVE', 'score': 0.9954777359962463},\n",
       "  {'label': 'NEGATIVE', 'score': 0.9901455044746399},\n",
       "  {'label': 'NEGATIVE', 'score': 0.9986133575439453},\n",
       "  {'label': 'NEGATIVE', 'score': 0.9849787354469299},\n",
       "  {'label': 'POSITIVE', 'score': 0.9824223518371582},\n",
       "  {'label': 'NEGATIVE', 'score': 0.9562161564826965},\n",
       "  {'label': 'POSITIVE', 'score': 0.6378508806228638},\n",
       "  {'label': 'NEGATIVE', 'score': 0.9048358201980591},\n",
       "  {'label': 'NEGATIVE', 'score': 0.9981719255447388}],\n",
       " 'SOL': [{'label': 'POSITIVE', 'score': 0.9929878115653992},\n",
       "  {'label': 'NEGATIVE', 'score': 0.9935408234596252},\n",
       "  {'label': 'NEGATIVE', 'score': 0.9562161564826965},\n",
       "  {'label': 'POSITIVE', 'score': 0.9980731010437012},\n",
       "  {'label': 'POSITIVE', 'score': 0.9717394709587097},\n",
       "  {'label': 'POSITIVE', 'score': 0.9993196725845337},\n",
       "  {'label': 'POSITIVE', 'score': 0.9834488034248352},\n",
       "  {'label': 'POSITIVE', 'score': 0.988382875919342},\n",
       "  {'label': 'NEGATIVE', 'score': 0.9951722025871277},\n",
       "  {'label': 'POSITIVE', 'score': 0.9996398687362671}]}"
      ]
     },
     "execution_count": 106,
     "metadata": {},
     "output_type": "execute_result"
    }
   ],
   "source": [
    "scores = {ticker:sentiment(summaries[ticker]) for ticker in tickers}\n",
    "scores"
   ]
  },
  {
   "cell_type": "code",
   "execution_count": 107,
   "metadata": {},
   "outputs": [
    {
     "name": "stdout",
     "output_type": "stream",
     "text": [
      "Business intelligence software company reported fourth quarter revenue. MicroStrategy sold bitcoin for first time in fourth quarter NEGATIVE 0.9995821118354797\n"
     ]
    }
   ],
   "source": [
    "print(summaries['BTC'][0], scores['BTC'][3]['label'], scores['BTC'][3]['score'])"
   ]
  },
  {
   "cell_type": "markdown",
   "metadata": {},
   "source": [
    "# Exporting results to CSV\n",
    "This code defines a function create_output_array that takes in three dictionaries as input: summaries, scores, and urls. It then iterates through each ticker in the tickers list and for each ticker, it iterates through the summaries, scores, and urls for that ticker. For each set of summary, score, and url, it creates a list that contains the ticker, the summary, the sentiment label (positive or negative), the sentiment score (between 0 and 1), and the URL. This list is then added to an output list. After iterating through all the tickers and their associated summaries, scores, and urls, the function returns the output list.\n",
    "\n",
    "This function is used to create the final output of the program, which is a list of lists containing information about each article. The information includes the ticker, the summary of the article, the sentiment of the article (positive or negative), the sentiment score (between 0 and 1), and the URL of the article."
   ]
  },
  {
   "cell_type": "code",
   "execution_count": 108,
   "metadata": {},
   "outputs": [],
   "source": [
    "def create_output_array(summaries, scores, urls):\n",
    "    \"\"\"Create output array\n",
    "    :param summaries: dictionary of summaries\n",
    "    :param scores: dictionary of scores\n",
    "    :param urls: dictionary of urls\n",
    "    :return: output array\n",
    "    \"\"\"\n",
    "    output = []\n",
    "    for ticker in tickers:\n",
    "        for counter in range(len(summaries[ticker])):\n",
    "            output_this = [\n",
    "                ticker,\n",
    "                summaries[ticker][counter],\n",
    "                scores[ticker][counter]['label'],\n",
    "                scores[ticker][counter]['score'],\n",
    "                urls[ticker][counter]\n",
    "            ]\n",
    "            output.append(output_this)\n",
    "    return output"
   ]
  },
  {
   "cell_type": "code",
   "execution_count": 109,
   "metadata": {},
   "outputs": [
    {
     "data": {
      "text/plain": [
       "[['BTC',\n",
       "  'Business intelligence software company reported fourth quarter revenue. MicroStrategy sold bitcoin for first time in fourth quarter',\n",
       "  'NEGATIVE',\n",
       "  0.9180805087089539,\n",
       "  'https://finance.yahoo.com/news/microstrategy-bought-more-than-8800-bitcoins-during-2022s-plunge-223922592.html'],\n",
       " ['BTC',\n",
       "  'Base aims to improve data processing and transaction costs. Initial projects will focus on scaling and security',\n",
       "  'POSITIVE',\n",
       "  0.8656954765319824,\n",
       "  'https://finance.yahoo.com/news/coinbase-rolls-out-new-layer-2-blockchain-base-140026538.html'],\n",
       " ['BTC',\n",
       "  'Fintech firm reported fourth-quarter revenue of $1.83 billion. Cash App generated $35 million in bitcoin gross profit in the quarter',\n",
       "  'NEGATIVE',\n",
       "  0.9643605351448059,\n",
       "  'https://finance.yahoo.com/news/block-q4-bitcoin-revenue-fell-213625764.html'],\n",
       " ['BTC',\n",
       "  '‘This could get bad,’ developer warns of lack of funding. Lee says crypto asset prices are in middle of ‘bear market’',\n",
       "  'NEGATIVE',\n",
       "  0.9995821118354797,\n",
       "  'https://finance.yahoo.com/news/bitcoin-future-hinges-donations-got-194653381.html'],\n",
       " ['BTC',\n",
       "  'Bitcoin has surged over 45% so far this year, outperforming traditional risk assets.',\n",
       "  'POSITIVE',\n",
       "  0.9835985898971558,\n",
       "  'https://finance.yahoo.com/news/bitcoin-futures-cme-outpace-those-122730357.html'],\n",
       " ['BTC',\n",
       "  'Retail sales rise 3% in January, inflation eases. Weekly take on events in the stock and bond markets',\n",
       "  'POSITIVE',\n",
       "  0.9602307081222534,\n",
       "  'https://finance.yahoo.com/news/economic-landings-economic-signals-bitcoin-25000-3-top-stories-from-this-week-120058611.html'],\n",
       " ['BTC',\n",
       "  'Largest cryptocurrency is closing out its best January in a decade. Speculators have returned to the market, driving gains',\n",
       "  'POSITIVE',\n",
       "  0.9985652565956116,\n",
       "  'https://finance.yahoo.com/news/bitcoin-closes-out-best-january-since-2013-232215270.html'],\n",
       " ['BTC',\n",
       "  'University of Texas McCombs professor is ‘moral sleuth’. He and his doctoral candidate uncovered abuses in the crypto market',\n",
       "  'POSITIVE',\n",
       "  0.5332544445991516,\n",
       "  'https://finance.yahoo.com/news/wild-theory-price-bitcoin-being-110000608.html'],\n",
       " ['BTC',\n",
       "  \"BTB's Texas mining farm has been operating since January 17, 2023. Revenue for full fiscal year ending June 30, 2023 expected to be $1.8 million\",\n",
       "  'NEGATIVE',\n",
       "  0.9601682424545288,\n",
       "  'https://finance.yahoo.com/news/bit-brother-generated-over-15-133000172.html'],\n",
       " ['BTC',\n",
       "  'We are aware of the issue and are working to resolve it.',\n",
       "  'POSITIVE',\n",
       "  0.9979088306427002,\n",
       "  'https://finance.yahoo.com/video/11-301-btc-added-global-152401432.html'],\n",
       " ['ETH',\n",
       "  'The SEC has been aggressively pursuing increased regulation. Staking-as-a-service products were marketed to retail traders',\n",
       "  'NEGATIVE',\n",
       "  0.9855942130088806,\n",
       "  'https://finance.yahoo.com/news/sec-crackdown-ethereum-staking-silver-133000598.html'],\n",
       " ['ETH',\n",
       "  'Markets react to less-than-encouraging minutes from FOMC. Bitcoin, Ethereum and other cryptos rebound later in the day',\n",
       "  'NEGATIVE',\n",
       "  0.9954777359962463,\n",
       "  'https://finance.yahoo.com/news/first-mover-asia-bitcoin-seesaws-013345503.html'],\n",
       " ['ETH',\n",
       "  'Shanghai upgrade planned for second half of 2023. Staking protocols offering ‘liquid staking’ tokens to fill the gap',\n",
       "  'NEGATIVE',\n",
       "  0.9901455044746399,\n",
       "  'https://finance.yahoo.com/news/ethereum-shanghai-upgrade-mean-eth-224154909.html'],\n",
       " ['ETH',\n",
       "  'Exchange to pay $30m to settle SEC charge. Paxos tells Bloomberg to stop issuing new coins',\n",
       "  'NEGATIVE',\n",
       "  0.9986133575439453,\n",
       "  'https://uk.finance.yahoo.com/news/ethereum-price-drops-kraken-sec-settlement-112911514.html'],\n",
       " ['ETH',\n",
       "  'Base launched in testnet, aims to reduce fees to 1 cent. Largest U.S. crypto exchange is in transition amid crypto winter',\n",
       "  'NEGATIVE',\n",
       "  0.9849787354469299,\n",
       "  'https://finance.yahoo.com/news/coinbase-joins-ethereum-layer-2-192111764.html'],\n",
       " ['ETH',\n",
       "  'Ethereum’s potential value may be unlocked, offsetting Bitcoin’s margins.',\n",
       "  'POSITIVE',\n",
       "  0.9824223518371582,\n",
       "  'https://finance.yahoo.com/news/why-bitcoin-miners-ethereum-seriously-165819920.html'],\n",
       " ['ETH',\n",
       "  'Russia sent millions of dollars to help, Ukraine says. Around 60% of suppliers were able to accept crypto, deputy minister says',\n",
       "  'NEGATIVE',\n",
       "  0.9562161564826965,\n",
       "  'https://uk.finance.yahoo.com/news/ukraine-military-fight-russia-crypto-123809503.html'],\n",
       " ['ETH',\n",
       "  'GMX is Decentralized Finance’s (DEX) largest revenue generator. Gmx and glp tokens have been outperforming in recent months',\n",
       "  'POSITIVE',\n",
       "  0.6378508806228638,\n",
       "  'https://finance.yahoo.com/news/arbitrum-based-gmx-surpassed-ethereum-082717664.html'],\n",
       " ['ETH',\n",
       "  'Cloud is the first Web3 data streaming and infrastructure company to offer Ethereum staking functionality.',\n",
       "  'NEGATIVE',\n",
       "  0.9048358201980591,\n",
       "  'https://finance.yahoo.com/news/validation-cloud-launches-first-staking-140000235.html'],\n",
       " ['ETH',\n",
       "  'The SEC’s stance on crypto shows bias, bank says. Staking business should shift more towards DeFi, JPMorgan says',\n",
       "  'NEGATIVE',\n",
       "  0.9981719255447388,\n",
       "  'https://finance.yahoo.com/news/crypto-regulatory-initiatives-show-sec-120243801.html'],\n",
       " ['SOL',\n",
       "  'Store in NYC’s Hudson Yards opened in July. Miami store opened in December 2018',\n",
       "  'POSITIVE',\n",
       "  0.9929878115653992,\n",
       "  'https://finance.yahoo.com/news/solana-stores-were-called-experiment-174153923.html'],\n",
       " ['SOL',\n",
       "  \"Chile's peso recovers from steepest one-day percentage fall in over two weeks.\",\n",
       "  'NEGATIVE',\n",
       "  0.9935408234596252,\n",
       "  'https://finance.yahoo.com/news/emerging-markets-latam-fx-stocks-144557844.html'],\n",
       " ['SOL',\n",
       "  'Russia sent millions of dollars to help, Ukraine says. Around 60% of suppliers were able to accept crypto, deputy minister says',\n",
       "  'NEGATIVE',\n",
       "  0.9562161564826965,\n",
       "  'https://uk.finance.yahoo.com/news/ukraine-military-fight-russia-crypto-123809503.html'],\n",
       " ['SOL',\n",
       "  'Private equity firm targeting best-in-class companies in high-growth industries.',\n",
       "  'POSITIVE',\n",
       "  0.9980731010437012,\n",
       "  'https://finance.yahoo.com/news/sgi-portfolio-company-simply-better-123000143.html'],\n",
       " ['SOL',\n",
       "  'The Bill & Melinda Gates Foundation acquired the stake. Shares are valued at 848.2 million, according to Bloomberg calculations',\n",
       "  'POSITIVE',\n",
       "  0.9717394709587097,\n",
       "  'https://finance.yahoo.com/news/bill-gates-buys-stake-heineken-161015666.html'],\n",
       " ['SOL',\n",
       "  'Global fashion company with brands Coach, Kate Spade New York and Stuart Weitzman.',\n",
       "  'POSITIVE',\n",
       "  0.9993196725845337,\n",
       "  'https://finance.yahoo.com/news/black-history-month-2023-celebrating-191500922.html'],\n",
       " ['SOL',\n",
       "  'Sol Systems to invest an additional $1.2 million in community projects. Initial phase of partnership with Microsoft focuses on environmental justice',\n",
       "  'POSITIVE',\n",
       "  0.9834488034248352,\n",
       "  'https://finance.yahoo.com/news/sol-systems-contributes-additional-1-143500692.html'],\n",
       " ['SOL',\n",
       "  'Renewable energy investments were equal to fossil fuels in 2022.',\n",
       "  'POSITIVE',\n",
       "  0.988382875919342,\n",
       "  'https://finance.yahoo.com/news/12-most-promising-solar-stocks-151229884.html'],\n",
       " ['SOL',\n",
       "  'Fed meeting minutes due at 1900 GMT. Indian inflation remains high, MPC minutes seen as key',\n",
       "  'NEGATIVE',\n",
       "  0.9951722025871277,\n",
       "  'https://finance.yahoo.com/news/emerging-markets-em-stocks-drop-152527609.html'],\n",
       " ['SOL',\n",
       "  \"Data-driven cryptocurrency is featured pick in NewsDirect's Best Coins to invest in.\",\n",
       "  'POSITIVE',\n",
       "  0.9996398687362671,\n",
       "  'https://finance.yahoo.com/news/5-best-coins-invest-2023-125252143.html']]"
      ]
     },
     "execution_count": 109,
     "metadata": {},
     "output_type": "execute_result"
    }
   ],
   "source": [
    "final_output = create_output_array(summaries, scores, cleaned_urls)\n",
    "final_output"
   ]
  },
  {
   "cell_type": "code",
   "execution_count": 112,
   "metadata": {},
   "outputs": [],
   "source": [
    "final_output.insert(0, ['Ticker', 'Summary', 'Sentiment', 'Score', 'URL'])"
   ]
  },
  {
   "cell_type": "markdown",
   "source": [
    "This code uses the csv library to write the final output to a CSV file named output.csv."
   ],
   "metadata": {
    "collapsed": false
   }
  },
  {
   "cell_type": "code",
   "execution_count": 113,
   "metadata": {},
   "outputs": [],
   "source": [
    "import csv\n",
    "with open('output.csv', 'w', newline='') as file:\n",
    "    writer = csv.writer(file, delimiter=',', quotechar='\"', quoting=csv.QUOTE_MINIMAL)\n",
    "    writer.writerows(final_output)"
   ]
  }
 ],
 "metadata": {
  "kernelspec": {
   "display_name": "Python 3 (ipykernel)",
   "language": "python",
   "name": "python3"
  },
  "language_info": {
   "codemirror_mode": {
    "name": "ipython",
    "version": 3
   },
   "file_extension": ".py",
   "mimetype": "text/x-python",
   "name": "python",
   "nbconvert_exporter": "python",
   "pygments_lexer": "ipython3",
   "version": "3.9.6"
  }
 },
 "nbformat": 4,
 "nbformat_minor": 1
}
